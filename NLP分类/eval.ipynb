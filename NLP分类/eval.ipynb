{
 "cells": [
  {
   "cell_type": "code",
   "execution_count": 1,
   "metadata": {},
   "outputs": [
    {
     "name": "stdout",
     "output_type": "stream",
     "text": [
      "\n",
      "Parameters:\n",
      "ALLOW_SOFT_PLACEMENT = True\n",
      "BATCH_SIZE = 64\n",
      "CHECKPOINT_DIR = \n",
      "LOG_DEVICE_PLACEMENT = False\n",
      "NEG_DIR = data/rt-polaritydata/rt-polarity.neg\n",
      "POS_DIR = data/rt-polaritydata/rt-polarity.pos\n",
      "\n",
      "INFO:tensorflow:Restoring parameters from /var/www/html/test/py/py_study/NLP2/runs/1544517516/checkpoints/model-1500\n",
      "Total number of test examples: 10662\n",
      "Accuracy: 0.96239\n"
     ]
    }
   ],
   "source": [
    "%run eval.py --checkpoint_dir \"runs/1544517516\""
   ]
  },
  {
   "cell_type": "code",
   "execution_count": null,
   "metadata": {},
   "outputs": [],
   "source": []
  }
 ],
 "metadata": {
  "kernelspec": {
   "display_name": "Python 3",
   "language": "python",
   "name": "python3"
  },
  "language_info": {
   "codemirror_mode": {
    "name": "ipython",
    "version": 3
   },
   "file_extension": ".py",
   "mimetype": "text/x-python",
   "name": "python",
   "nbconvert_exporter": "python",
   "pygments_lexer": "ipython3",
   "version": "3.4.3"
  }
 },
 "nbformat": 4,
 "nbformat_minor": 2
}
