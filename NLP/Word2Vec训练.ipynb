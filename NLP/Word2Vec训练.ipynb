{
 "cells": [
  {
   "cell_type": "code",
   "execution_count": 2,
   "metadata": {},
   "outputs": [],
   "source": [
    "# 首先导入所需要的库\n",
    "\n",
    "import pandas as pd\n",
    "\n",
    "from gensim.models import Word2Vec\n",
    "\n",
    "from gensim.models.word2vec import LineSentence"
   ]
  },
  {
   "cell_type": "code",
   "execution_count": 3,
   "metadata": {},
   "outputs": [
    {
     "data": {
      "text/html": [
       "<div>\n",
       "<style scoped>\n",
       "    .dataframe tbody tr th:only-of-type {\n",
       "        vertical-align: middle;\n",
       "    }\n",
       "\n",
       "    .dataframe tbody tr th {\n",
       "        vertical-align: top;\n",
       "    }\n",
       "\n",
       "    .dataframe thead th {\n",
       "        text-align: right;\n",
       "    }\n",
       "</style>\n",
       "<table border=\"1\" class=\"dataframe\">\n",
       "  <thead>\n",
       "    <tr style=\"text-align: right;\">\n",
       "      <th></th>\n",
       "      <th>id</th>\n",
       "      <th>word</th>\n",
       "    </tr>\n",
       "  </thead>\n",
       "  <tbody>\n",
       "    <tr>\n",
       "      <th>0</th>\n",
       "      <td>1</td>\n",
       "      <td>大卫</td>\n",
       "    </tr>\n",
       "    <tr>\n",
       "      <th>1</th>\n",
       "      <td>1</td>\n",
       "      <td>李髌骨</td>\n",
       "    </tr>\n",
       "    <tr>\n",
       "      <th>2</th>\n",
       "      <td>1</td>\n",
       "      <td>韧带</td>\n",
       "    </tr>\n",
       "    <tr>\n",
       "      <th>3</th>\n",
       "      <td>1</td>\n",
       "      <td>撕裂</td>\n",
       "    </tr>\n",
       "    <tr>\n",
       "      <th>4</th>\n",
       "      <td>1</td>\n",
       "      <td>等待</td>\n",
       "    </tr>\n",
       "  </tbody>\n",
       "</table>\n",
       "</div>"
      ],
      "text/plain": [
       "   id word\n",
       "0   1   大卫\n",
       "1   1  李髌骨\n",
       "2   1   韧带\n",
       "3   1   撕裂\n",
       "4   1   等待"
      ]
     },
     "execution_count": 3,
     "metadata": {},
     "output_type": "execute_result"
    }
   ],
   "source": [
    "# 读取数据\n",
    "df = pd.read_csv('tiyu.csv', encoding='gbk')\n",
    "df.head()"
   ]
  },
  {
   "cell_type": "code",
   "execution_count": 4,
   "metadata": {},
   "outputs": [
    {
     "name": "stdout",
     "output_type": "stream",
     "text": [
      "[['大卫', '李髌骨', '韧带', '撕裂', '等待', 'MRI', '篮球', '5月', '21日', 'NBA', '记者', 'MichaelC.Wright', 'RamonaShelburne', '联合', '报道', '消息', '人士', '透露', '马刺', '大卫', '诊断', '膝盖', '韧带', '撕裂', '当地', '时间', '周日', '接受', '核磁共振', '检查', '确认', '伤势', '马刺', '今天', '主场', '勇士', '系列赛', '比分', '落后', '李本场', '比赛', '进攻', '落地', '不幸', '膝盖', '提前', '退出', '比赛', '今年', '季后赛', '李场', '出战', '4.1分', '篮板', '来源', 'Twitter'], ['尤文', '双冠', '剑指', '欧冠', '决赛', '皇马', '北京', '时间', '5月', '21日', '尤文图斯', '主场', '血虐克', '罗托', '提前', '夺得', '意甲', '冠军', '史无前例', '蝉联', '意甲', '5月', '18日', '意大利杯', '实现', '杯赛', '三连冠', '目前', '尤文', '赛季', '展现', '强大', '实力', '目标', '13年', '拜仁', '赛季', '剑指', '尤文', '上一场', '联赛', '比赛', '罗马', '尤文', '意大利杯', '决赛', '前景', '担忧', '斑马军团', '完美', '打消', '拥趸', '疑虑', '顺利', '夺得', '赛季', '冠军', '头衔', '尤文', '处于', '皮亚尼奇', '赫迪拉', '中场', '主力', '无法', '出场', '情况', '完成', '卫冕', '赛季', '尤文', '想起', '拜仁慕尼黑', '当时', '拥有', '强大', '罗贝里', '组合', '穆勒', '拉姆', '施魏', '施泰格', '进攻', '防守', '两端', '强硬', '会师', '欧冠', '决赛', '罗本', '一锤定音', '拜仁', '球迷', '夜晚', '流下', '热泪', '布冯', '能够', '年龄', '耳朵杯', '职业', '生涯', '集齐', '世界杯'], ['花式', '吐饼', '看看', '尼日利亚', '老乡', '北京', '时间', '5月', '21日', '中超', '继续', '展开', '较量', '长春', '亚泰', '坐镇', '经开', '体育场', '迎来', '天津', '泰达', '挑战', '。本场', '比赛', '陷入', '保级', '泥潭', '试图', '上半场', '主场', '作战', '亚泰', '发难', '胡斯蒂', '主罚', '前场', '任意球', '亚泰', '中卫', '孙捷', '力压', '防守', '球员', '头槌', '破门', '主队', '纪录', '下半场', '惠家康', '精彩', '边路', '突破', '助攻', '德耶', '闪电', '扳平', '比分', '双方', '起跑线', '比赛', '双方', '制造', '破门', '机会', '亚泰', '获得', '点球', '良机', '皮球', '直接', '送入', '对方', '门将', '怀中', '未能', '破门', '战罢', '双方', '握手言和', '相比', '平和', '比分', '双方', '外援', '浪费', '进球', '机会', '唏嘘不已', '亚泰', '队长']]\n"
     ]
    }
   ],
   "source": [
    "# 将数据转化成列表\n",
    "\n",
    "cps = []\n",
    "\n",
    "line_sent = []\n",
    "\n",
    "for i in df.groupby(['id']):\n",
    "\n",
    "    seg_list = list(i[1].word)\n",
    "\n",
    "    # print(seg_list)\n",
    "\n",
    "    line_sent.append(seg_list)\n",
    "\n",
    "    seg = ' '.join(seg_list)\n",
    "\n",
    "    cps.append(seg)\n",
    "\n",
    "print(line_sent)"
   ]
  },
  {
   "cell_type": "code",
   "execution_count": 5,
   "metadata": {},
   "outputs": [
    {
     "name": "stdout",
     "output_type": "stream",
     "text": [
      "{'核磁共振': 1, '季后赛': 1, '不幸': 1, '大卫': 2, '马刺': 2, '5月': 1, '进攻': 1, '确认': 1, 'MichaelC.Wright': 1, '来源': 1, '周日': 1, 'RamonaShelburne': 1, '比分': 1, '膝盖': 2, '李本场': 1, '今年': 1, '伤势': 1, '勇士': 1, '检查': 1, '接受': 1, '时间': 1, '退出': 1, '主场': 1, '联合': 1, 'MRI': 1, '韧带': 2, 'Twitter': 1, '李场': 1, '人士': 1, '消息': 1, '当地': 1, '比赛': 2, '报道': 1, '诊断': 1, '出战': 1, '李髌骨': 1, '记者': 1, '4.1分': 1, '今天': 1, 'NBA': 1, '系列赛': 1, '21日': 1, '等待': 1, '撕裂': 2, '透露': 1, '提前': 1, '篮球': 1, '篮板': 1, '落后': 1, '落地': 1}\n",
      "{'完成': 1, '实现': 1, '夜晚': 1, '5月': 2, '双冠': 1, '三连冠': 1, '赫迪拉': 1, '夺得': 2, '罗托': 1, '罗马': 1, '一锤定音': 1, '决赛': 3, '拥有': 1, '上一场': 1, '目前': 1, '18日': 1, '北京': 1, '皮亚尼奇': 1, '疑虑': 1, '史无前例': 1, '主场': 1, '能够': 1, '世界杯': 1, '前景': 1, '打消': 1, '会师': 1, '赛季': 4, '冠军': 2, '想起': 1, '欧冠': 2, '情况': 1, '当时': 1, '目标': 1, '两端': 1, '罗贝里': 1, '顺利': 1, '热泪': 1, '意甲': 2, '罗本': 1, '施泰格': 1, '进攻': 1, '21日': 1, '剑指': 2, '尤文': 6, '皇马': 1, '意大利杯': 2, '集齐': 1, '防守': 1, '拜仁': 2, '展现': 1, '穆勒': 1, '出场': 1, '中场': 1, '施魏': 1, '蝉联': 1, '无法': 1, '尤文图斯': 1, '生涯': 1, '拥趸': 1, '13年': 1, '布冯': 1, '卫冕': 1, '主力': 1, '组合': 1, '强大': 2, '时间': 1, '头衔': 1, '完美': 1, '血虐克': 1, '处于': 1, '联赛': 1, '斑马军团': 1, '拜仁慕尼黑': 1, '流下': 1, '比赛': 1, '球迷': 1, '杯赛': 1, '职业': 1, '拉姆': 1, '实力': 1, '担忧': 1, '年龄': 1, '耳朵杯': 1, '提前': 1, '强硬': 1}\n",
      "{'球员': 1, '5月': 1, '老乡': 1, '。本场': 1, '直接': 1, '挑战': 1, '陷入': 1, '试图': 1, '德耶': 1, '门将': 1, '进球': 1, '队长': 1, '北京': 1, '继续': 1, '作战': 1, '体育场': 1, '主场': 1, '吐饼': 1, '助攻': 1, '纪录': 1, '点球': 1, '尼日利亚': 1, '孙捷': 1, '浪费': 1, '闪电': 1, '对方': 1, '惠家康': 1, '战罢': 1, '迎来': 1, '力压': 1, '双方': 4, '平和': 1, '下半场': 1, '前场': 1, '21日': 1, '边路': 1, '展开': 1, '上半场': 1, '精彩': 1, '防守': 1, '良机': 1, '中卫': 1, '保级': 1, '主队': 1, '破门': 3, '突破': 1, '泰达': 1, '天津': 1, '机会': 2, '唏嘘不已': 1, '胡斯蒂': 1, '看看': 1, '送入': 1, '坐镇': 1, '发难': 1, '时间': 1, '比分': 2, '头槌': 1, '泥潭': 1, '相比': 1, '经开': 1, '长春': 1, '怀中': 1, '中超': 1, '任意球': 1, '握手言和': 1, '亚泰': 5, '比赛': 2, '制造': 1, '较量': 1, '起跑线': 1, '皮球': 1, '外援': 1, '主罚': 1, '扳平': 1, '未能': 1, '花式': 1, '获得': 1}\n"
     ]
    }
   ],
   "source": [
    "# 计算词频\n",
    "\n",
    "import nltk\n",
    "\n",
    "for i in cps:\n",
    "\n",
    "    ii = i.split(' ')\n",
    "\n",
    "    cfd = dict(nltk.FreqDist(ii))\n",
    "\n",
    "    print(cfd)"
   ]
  },
  {
   "cell_type": "code",
   "execution_count": 6,
   "metadata": {},
   "outputs": [
    {
     "name": "stdout",
     "output_type": "stream",
     "text": [
      "Word2Vec(vocab=198, size=300, alpha=0.025)\n",
      "{'球员': <gensim.models.keyedvectors.Vocab object at 0x7f3c8d119a90>, '实现': <gensim.models.keyedvectors.Vocab object at 0x7f3c8d40cdd8>, '大卫': <gensim.models.keyedvectors.Vocab object at 0x7f3c8d119ac8>, '夜晚': <gensim.models.keyedvectors.Vocab object at 0x7f3c8d119b00>, '5月': <gensim.models.keyedvectors.Vocab object at 0x7f3c8d119b38>, 'MichaelC.Wright': <gensim.models.keyedvectors.Vocab object at 0x7f3c8d119b70>, '落地': <gensim.models.keyedvectors.Vocab object at 0x7f3c8d119ba8>, '保级': <gensim.models.keyedvectors.Vocab object at 0x7f3c8d1226a0>, 'RamonaShelburne': <gensim.models.keyedvectors.Vocab object at 0x7f3c8d119c18>, '一锤定音': <gensim.models.keyedvectors.Vocab object at 0x7f3c8d119c50>, '决赛': <gensim.models.keyedvectors.Vocab object at 0x7f3c8d119c88>, '挑战': <gensim.models.keyedvectors.Vocab object at 0x7f3c8d119cc0>, '拥有': <gensim.models.keyedvectors.Vocab object at 0x7f3c8d119cf8>, '试图': <gensim.models.keyedvectors.Vocab object at 0x7f3c8d122198>, '今年': <gensim.models.keyedvectors.Vocab object at 0x7f3c8d119d68>, '上一场': <gensim.models.keyedvectors.Vocab object at 0x7f3c8d119da0>, '主力': <gensim.models.keyedvectors.Vocab object at 0x7f3c8d119dd8>, '检查': <gensim.models.keyedvectors.Vocab object at 0x7f3c8d119e10>, '18日': <gensim.models.keyedvectors.Vocab object at 0x7f3c8d119e48>, '接受': <gensim.models.keyedvectors.Vocab object at 0x7f3c8d119e80>, '皮亚尼奇': <gensim.models.keyedvectors.Vocab object at 0x7f3c8d119eb8>, '作战': <gensim.models.keyedvectors.Vocab object at 0x7f3c8d1257f0>, '拉姆': <gensim.models.keyedvectors.Vocab object at 0x7f3c8d119f28>, '能够': <gensim.models.keyedvectors.Vocab object at 0x7f3c8d119f60>, '泰达': <gensim.models.keyedvectors.Vocab object at 0x7f3c8d122828>, '头衔': <gensim.models.keyedvectors.Vocab object at 0x7f3c8d127160>, '纪录': <gensim.models.keyedvectors.Vocab object at 0x7f3c8d119f98>, '前景': <gensim.models.keyedvectors.Vocab object at 0x7f3c8d119fd0>, 'Twitter': <gensim.models.keyedvectors.Vocab object at 0x7f3c8d122048>, '点球': <gensim.models.keyedvectors.Vocab object at 0x7f3c8d122080>, '打消': <gensim.models.keyedvectors.Vocab object at 0x7f3c8d1220b8>, '会师': <gensim.models.keyedvectors.Vocab object at 0x7f3c8d1220f0>, '冠军': <gensim.models.keyedvectors.Vocab object at 0x7f3c8d122128>, '出战': <gensim.models.keyedvectors.Vocab object at 0x7f3c8d1274e0>, '诊断': <gensim.models.keyedvectors.Vocab object at 0x7f3c8d119d30>, '罗贝里': <gensim.models.keyedvectors.Vocab object at 0x7f3c8d1221d0>, '联赛': <gensim.models.keyedvectors.Vocab object at 0x7f3c8d122208>, '迎来': <gensim.models.keyedvectors.Vocab object at 0x7f3c8d122240>, '罗本': <gensim.models.keyedvectors.Vocab object at 0x7f3c8d1222e8>, '4.1分': <gensim.models.keyedvectors.Vocab object at 0x7f3c8d122278>, '双方': <gensim.models.keyedvectors.Vocab object at 0x7f3c8d122320>, '平和': <gensim.models.keyedvectors.Vocab object at 0x7f3c8d122358>, '施泰格': <gensim.models.keyedvectors.Vocab object at 0x7f3c8d122390>, '系列赛': <gensim.models.keyedvectors.Vocab object at 0x7f3c8d1223c8>, '21日': <gensim.models.keyedvectors.Vocab object at 0x7f3c8d122400>, '等待': <gensim.models.keyedvectors.Vocab object at 0x7f3c8d122978>, '撕裂': <gensim.models.keyedvectors.Vocab object at 0x7f3c8d122470>, '边路': <gensim.models.keyedvectors.Vocab object at 0x7f3c8d1224a8>, '展开': <gensim.models.keyedvectors.Vocab object at 0x7f3c8d1224e0>, '尤文': <gensim.models.keyedvectors.Vocab object at 0x7f3c8d122518>, '篮板': <gensim.models.keyedvectors.Vocab object at 0x7f3c8d122550>, '落后': <gensim.models.keyedvectors.Vocab object at 0x7f3c8d122588>, '集齐': <gensim.models.keyedvectors.Vocab object at 0x7f3c8d1225c0>, '核磁共振': <gensim.models.keyedvectors.Vocab object at 0x7f3c8d1225f8>, '防守': <gensim.models.keyedvectors.Vocab object at 0x7f3c8d122630>, '良机': <gensim.models.keyedvectors.Vocab object at 0x7f3c8d1252e8>, '头槌': <gensim.models.keyedvectors.Vocab object at 0x7f3c8d119be0>, '展现': <gensim.models.keyedvectors.Vocab object at 0x7f3c8d1226d8>, '穆勒': <gensim.models.keyedvectors.Vocab object at 0x7f3c8d122710>, '两端': <gensim.models.keyedvectors.Vocab object at 0x7f3c8d122748>, '来源': <gensim.models.keyedvectors.Vocab object at 0x7f3c8d1227b8>, '意大利杯': <gensim.models.keyedvectors.Vocab object at 0x7f3c8d1227f0>, '中卫': <gensim.models.keyedvectors.Vocab object at 0x7f3c8d125048>, '无法': <gensim.models.keyedvectors.Vocab object at 0x7f3c8d122860>, '膝盖': <gensim.models.keyedvectors.Vocab object at 0x7f3c8d122898>, '唏嘘不已': <gensim.models.keyedvectors.Vocab object at 0x7f3c8d1228d0>, '李本场': <gensim.models.keyedvectors.Vocab object at 0x7f3c8d122908>, '看看': <gensim.models.keyedvectors.Vocab object at 0x7f3c8d122940>, '剑指': <gensim.models.keyedvectors.Vocab object at 0x7f3c8d122438>, '强大': <gensim.models.keyedvectors.Vocab object at 0x7f3c8d1229b0>, '发难': <gensim.models.keyedvectors.Vocab object at 0x7f3c8d1229e8>, '时间': <gensim.models.keyedvectors.Vocab object at 0x7f3c8d122a20>, '助攻': <gensim.models.keyedvectors.Vocab object at 0x7f3c8d122a58>, '赛季': <gensim.models.keyedvectors.Vocab object at 0x7f3c8d122a90>, '处于': <gensim.models.keyedvectors.Vocab object at 0x7f3c8d122ac8>, '泥潭': <gensim.models.keyedvectors.Vocab object at 0x7f3c8d122b00>, '相比': <gensim.models.keyedvectors.Vocab object at 0x7f3c8d122b38>, '韧带': <gensim.models.keyedvectors.Vocab object at 0x7f3c8d122b70>, '拜仁慕尼黑': <gensim.models.keyedvectors.Vocab object at 0x7f3c8d122ba8>, '李场': <gensim.models.keyedvectors.Vocab object at 0x7f3c8d122be0>, '怀中': <gensim.models.keyedvectors.Vocab object at 0x7f3c8d122c50>, '中超': <gensim.models.keyedvectors.Vocab object at 0x7f3c8d122c88>, '亚泰': <gensim.models.keyedvectors.Vocab object at 0x7f3c8d122cc0>, '德耶': <gensim.models.keyedvectors.Vocab object at 0x7f3c8d122cf8>, '制造': <gensim.models.keyedvectors.Vocab object at 0x7f3c8d122d30>, '伤势': <gensim.models.keyedvectors.Vocab object at 0x7f3c8d1254a8>, '杯赛': <gensim.models.keyedvectors.Vocab object at 0x7f3c8d122da0>, '职业': <gensim.models.keyedvectors.Vocab object at 0x7f3c8d122dd8>, '皮球': <gensim.models.keyedvectors.Vocab object at 0x7f3c8d125978>, '外援': <gensim.models.keyedvectors.Vocab object at 0x7f3c8d122e48>, '主罚': <gensim.models.keyedvectors.Vocab object at 0x7f3c8d122e80>, '担忧': <gensim.models.keyedvectors.Vocab object at 0x7f3c8d122eb8>, '上半场': <gensim.models.keyedvectors.Vocab object at 0x7f3c8d122ef0>, '施魏': <gensim.models.keyedvectors.Vocab object at 0x7f3c8d122f28>, '未能': <gensim.models.keyedvectors.Vocab object at 0x7f3c8d122f60>, '蝉联': <gensim.models.keyedvectors.Vocab object at 0x7f3c8d1259b0>, '花式': <gensim.models.keyedvectors.Vocab object at 0x7f3c8d122fd0>, '提前': <gensim.models.keyedvectors.Vocab object at 0x7f3c8d125cf8>, '获得': <gensim.models.keyedvectors.Vocab object at 0x7f3c8d125080>, '强硬': <gensim.models.keyedvectors.Vocab object at 0x7f3c8d1250b8>, '年龄': <gensim.models.keyedvectors.Vocab object at 0x7f3c8d122f98>, '完成': <gensim.models.keyedvectors.Vocab object at 0x7f3c8d1250f0>, '不幸': <gensim.models.keyedvectors.Vocab object at 0x7f3c8d125128>, '马刺': <gensim.models.keyedvectors.Vocab object at 0x7f3c8d125160>, '勇士': <gensim.models.keyedvectors.Vocab object at 0x7f3c8d125198>, '双冠': <gensim.models.keyedvectors.Vocab object at 0x7f3c8d1251d0>, '老乡': <gensim.models.keyedvectors.Vocab object at 0x7f3c8d125208>, '三连冠': <gensim.models.keyedvectors.Vocab object at 0x7f3c8d125240>, '赫迪拉': <gensim.models.keyedvectors.Vocab object at 0x7f3c8d125278>, '夺得': <gensim.models.keyedvectors.Vocab object at 0x7f3c8d1252b0>, '季后赛': <gensim.models.keyedvectors.Vocab object at 0x7f3c8d122668>, '罗托': <gensim.models.keyedvectors.Vocab object at 0x7f3c8d125320>, '罗马': <gensim.models.keyedvectors.Vocab object at 0x7f3c8d125358>, '。本场': <gensim.models.keyedvectors.Vocab object at 0x7f3c8d125390>, '直接': <gensim.models.keyedvectors.Vocab object at 0x7f3c8d1253c8>, '比分': <gensim.models.keyedvectors.Vocab object at 0x7f3c8d125400>, '今天': <gensim.models.keyedvectors.Vocab object at 0x7f3c8d125c50>, '消息': <gensim.models.keyedvectors.Vocab object at 0x7f3c8d125470>, '门将': <gensim.models.keyedvectors.Vocab object at 0x7f3c8d122d68>, '目前': <gensim.models.keyedvectors.Vocab object at 0x7f3c8d1254e0>, '队长': <gensim.models.keyedvectors.Vocab object at 0x7f3c8d125518>, '北京': <gensim.models.keyedvectors.Vocab object at 0x7f3c8d125550>, '史无前例': <gensim.models.keyedvectors.Vocab object at 0x7f3c8d125588>, '继续': <gensim.models.keyedvectors.Vocab object at 0x7f3c8d1255c0>, '中场': <gensim.models.keyedvectors.Vocab object at 0x7f3c8d122780>, '世界杯': <gensim.models.keyedvectors.Vocab object at 0x7f3c8d1256d8>, '主场': <gensim.models.keyedvectors.Vocab object at 0x7f3c8d125668>, '吐饼': <gensim.models.keyedvectors.Vocab object at 0x7f3c8d1256a0>, 'MRI': <gensim.models.keyedvectors.Vocab object at 0x7f3c8d125710>, '疑虑': <gensim.models.keyedvectors.Vocab object at 0x7f3c8d1255f8>, '浪费': <gensim.models.keyedvectors.Vocab object at 0x7f3c8d127240>, '扳平': <gensim.models.keyedvectors.Vocab object at 0x7f3c8d125748>, '尼日利亚': <gensim.models.keyedvectors.Vocab object at 0x7f3c8d125780>, '热泪': <gensim.models.keyedvectors.Vocab object at 0x7f3c8d1222b0>, '退出': <gensim.models.keyedvectors.Vocab object at 0x7f3c8d119ef0>, '想起': <gensim.models.keyedvectors.Vocab object at 0x7f3c8d125828>, '闪电': <gensim.models.keyedvectors.Vocab object at 0x7f3c8d125860>, '对方': <gensim.models.keyedvectors.Vocab object at 0x7f3c8d125898>, '情况': <gensim.models.keyedvectors.Vocab object at 0x7f3c8d1258d0>, '记者': <gensim.models.keyedvectors.Vocab object at 0x7f3c8d125908>, '体育场': <gensim.models.keyedvectors.Vocab object at 0x7f3c8d125630>, '目标': <gensim.models.keyedvectors.Vocab object at 0x7f3c8d122e10>, '惠家康': <gensim.models.keyedvectors.Vocab object at 0x7f3c8d1259e8>, '战罢': <gensim.models.keyedvectors.Vocab object at 0x7f3c8d125a20>, '意甲': <gensim.models.keyedvectors.Vocab object at 0x7f3c8d125a58>, '李髌骨': <gensim.models.keyedvectors.Vocab object at 0x7f3c8d125a90>, '进攻': <gensim.models.keyedvectors.Vocab object at 0x7f3c8d125ac8>, '前场': <gensim.models.keyedvectors.Vocab object at 0x7f3c8d125b00>, '突破': <gensim.models.keyedvectors.Vocab object at 0x7f3c8d125b38>, '透露': <gensim.models.keyedvectors.Vocab object at 0x7f3c8d125b70>, '联合': <gensim.models.keyedvectors.Vocab object at 0x7f3c8d127278>, '篮球': <gensim.models.keyedvectors.Vocab object at 0x7f3c8d125ba8>, '皇马': <gensim.models.keyedvectors.Vocab object at 0x7f3c8d125be0>, '确认': <gensim.models.keyedvectors.Vocab object at 0x7f3c8d1275f8>, '陷入': <gensim.models.keyedvectors.Vocab object at 0x7f3c8d125438>, '拜仁': <gensim.models.keyedvectors.Vocab object at 0x7f3c8d125c88>, '进球': <gensim.models.keyedvectors.Vocab object at 0x7f3c8d125cc0>, '主队': <gensim.models.keyedvectors.Vocab object at 0x7f3c8d125dd8>, '破门': <gensim.models.keyedvectors.Vocab object at 0x7f3c8d125d30>, '当地': <gensim.models.keyedvectors.Vocab object at 0x7f3c8d125d68>, '周日': <gensim.models.keyedvectors.Vocab object at 0x7f3c8d125da0>, '天津': <gensim.models.keyedvectors.Vocab object at 0x7f3c8d125e10>, '人士': <gensim.models.keyedvectors.Vocab object at 0x7f3c8d125e48>, '机会': <gensim.models.keyedvectors.Vocab object at 0x7f3c8d125e80>, '尤文图斯': <gensim.models.keyedvectors.Vocab object at 0x7f3c8d125eb8>, '生涯': <gensim.models.keyedvectors.Vocab object at 0x7f3c8d125ef0>, '拥趸': <gensim.models.keyedvectors.Vocab object at 0x7f3c8d125f28>, '13年': <gensim.models.keyedvectors.Vocab object at 0x7f3c8d125f60>, '胡斯蒂': <gensim.models.keyedvectors.Vocab object at 0x7f3c8d125f98>, '布冯': <gensim.models.keyedvectors.Vocab object at 0x7f3c8d125fd0>, '耳朵杯': <gensim.models.keyedvectors.Vocab object at 0x7f3c8d127048>, '组合': <gensim.models.keyedvectors.Vocab object at 0x7f3c8d127080>, '送入': <gensim.models.keyedvectors.Vocab object at 0x7f3c8d1270b8>, '坐镇': <gensim.models.keyedvectors.Vocab object at 0x7f3c8d1270f0>, '下半场': <gensim.models.keyedvectors.Vocab object at 0x7f3c8d127128>, '流下': <gensim.models.keyedvectors.Vocab object at 0x7f3c8d122c18>, '孙捷': <gensim.models.keyedvectors.Vocab object at 0x7f3c8d1257b8>, '血虐克': <gensim.models.keyedvectors.Vocab object at 0x7f3c8d1271d0>, '顺利': <gensim.models.keyedvectors.Vocab object at 0x7f3c8d127208>, '当时': <gensim.models.keyedvectors.Vocab object at 0x7f3c8d125940>, '完美': <gensim.models.keyedvectors.Vocab object at 0x7f3c8d127198>, '经开': <gensim.models.keyedvectors.Vocab object at 0x7f3c8d1272b0>, '斑马军团': <gensim.models.keyedvectors.Vocab object at 0x7f3c8d1272e8>, '长春': <gensim.models.keyedvectors.Vocab object at 0x7f3c8d127320>, '任意球': <gensim.models.keyedvectors.Vocab object at 0x7f3c8d127358>, '握手言和': <gensim.models.keyedvectors.Vocab object at 0x7f3c8d127390>, '比赛': <gensim.models.keyedvectors.Vocab object at 0x7f3c8d1273c8>, '报道': <gensim.models.keyedvectors.Vocab object at 0x7f3c8d127400>, '出场': <gensim.models.keyedvectors.Vocab object at 0x7f3c8d127438>, '球迷': <gensim.models.keyedvectors.Vocab object at 0x7f3c8d127470>, '较量': <gensim.models.keyedvectors.Vocab object at 0x7f3c8d1274a8>, '起跑线': <gensim.models.keyedvectors.Vocab object at 0x7f3c8d122160>, '欧冠': <gensim.models.keyedvectors.Vocab object at 0x7f3c8d127518>, '实力': <gensim.models.keyedvectors.Vocab object at 0x7f3c8d127550>, '精彩': <gensim.models.keyedvectors.Vocab object at 0x7f3c8d127588>, '力压': <gensim.models.keyedvectors.Vocab object at 0x7f3c8d1275c0>, 'NBA': <gensim.models.keyedvectors.Vocab object at 0x7f3c8d125c18>, '卫冕': <gensim.models.keyedvectors.Vocab object at 0x7f3c8d127630>}\n"
     ]
    }
   ],
   "source": [
    "# 训练模型\n",
    "\n",
    "model = Word2Vec(line_sent,\n",
    "\n",
    "                 size=300,\n",
    "\n",
    "                 window=5,\n",
    "\n",
    "                 min_count=1,\n",
    "\n",
    "                 workers=2)\n",
    "\n",
    "print(model)\n",
    "\n",
    "model.save('./word2vec.model')\n",
    "\n",
    "print(model.wv.vocab)"
   ]
  },
  {
   "cell_type": "code",
   "execution_count": 8,
   "metadata": {},
   "outputs": [
    {
     "name": "stdout",
     "output_type": "stream",
     "text": [
      "[-2.49058532e-04  8.72720091e-04  3.04122987e-05  4.13650647e-04\n",
      " -5.97589475e-04  1.32476841e-03 -1.19894068e-03  9.56483127e-04\n",
      " -1.14322384e-03 -9.08540620e-04 -1.29463058e-03 -1.44232763e-03\n",
      "  1.35860842e-04  2.91353062e-04 -5.73527941e-04 -5.51422185e-04\n",
      "  1.34733634e-03  1.56747620e-03  6.41076593e-04  5.86711103e-04\n",
      "  3.61199229e-04  1.62139256e-03 -1.04434299e-03 -4.34649672e-04\n",
      "  1.58293371e-03 -1.32244430e-03  8.31394864e-04 -9.91024193e-04\n",
      " -1.53589260e-03 -1.35374523e-03 -8.95834237e-04  1.22807350e-03\n",
      " -1.53370871e-04  1.02388673e-03 -9.88882850e-04 -8.25493771e-04\n",
      "  9.57097916e-04 -1.59449832e-04 -1.45853846e-04 -1.54422829e-03\n",
      " -7.81089300e-04  8.25886556e-04 -5.57854248e-04 -4.60924093e-05\n",
      " -1.50555116e-03  1.42744475e-03 -3.09531228e-04 -1.55254698e-03\n",
      "  1.32144138e-03 -3.83789215e-04 -1.45404614e-04 -8.30307370e-04\n",
      "  8.71208686e-05  1.05084816e-03 -1.66034873e-03  1.57284562e-03\n",
      "  1.37622119e-03 -3.48660717e-04  2.68873409e-04 -1.27731625e-03\n",
      "  1.55764818e-03 -1.24787926e-04  4.75827575e-04 -1.54112780e-03\n",
      "  1.36426918e-03  6.86829793e-04 -3.36515877e-05  1.55093451e-03\n",
      "  2.84630114e-05  1.28881761e-03 -6.94054703e-04 -8.87024275e-04\n",
      " -1.18155600e-04  1.20614503e-04 -8.25981668e-04  2.70348450e-04\n",
      " -9.23539221e-04  8.17261345e-04  1.33483263e-03 -6.40149228e-04\n",
      "  1.16253192e-04 -2.97904829e-04  1.62582216e-03 -2.37142667e-05\n",
      " -5.94760233e-04 -5.60943910e-04 -1.39247614e-03  1.01977983e-03\n",
      " -9.99314128e-04 -1.16935291e-03 -1.00110879e-03  1.28212071e-03\n",
      "  1.19362224e-03  1.20861409e-03 -2.74210062e-04  1.29861885e-03\n",
      "  1.39432843e-03 -1.03867776e-03  5.21671493e-04 -1.40137493e-03\n",
      " -5.36953215e-04  1.04995957e-03  1.09279912e-03 -4.19737829e-04\n",
      "  4.13805014e-04  7.79325899e-04  1.18551787e-03 -1.13403611e-03\n",
      "  1.56486826e-03 -3.46937013e-04  1.21263112e-03  7.63418037e-04\n",
      " -9.04116489e-04  1.10899773e-03  1.26459845e-03 -2.37696382e-04\n",
      "  4.15133400e-04 -1.14220241e-03 -1.36981381e-03  1.48240686e-03\n",
      "  3.43242224e-04  1.86960446e-04  6.88361411e-04  1.30830647e-03\n",
      " -1.65833521e-03 -9.58039425e-04 -3.72197479e-04 -5.30986465e-04\n",
      "  7.81257870e-04  3.43022584e-05  7.79201277e-04 -3.60826321e-04\n",
      " -5.31130005e-04  5.08234487e-04  7.09442538e-04  1.62356901e-05\n",
      " -1.07285590e-03 -9.91181820e-04 -3.83888750e-04 -8.32320773e-04\n",
      " -2.96857237e-04  1.13007473e-03 -1.07750623e-03  7.15095375e-04\n",
      "  8.18556815e-04 -6.80150813e-04 -6.28690643e-04 -1.24705187e-03\n",
      "  5.37783490e-04 -1.25232351e-03  1.34319265e-03 -1.00380648e-03\n",
      " -2.17198962e-04  1.44263054e-03  3.28396825e-04 -2.54317420e-04\n",
      "  1.25109509e-03  8.63972004e-04 -1.46182405e-03  6.50472124e-04\n",
      "  1.54251477e-03  5.73715195e-04  1.53393287e-03 -1.56404031e-03\n",
      "  1.17599157e-04  4.39293130e-04  6.92080241e-04  7.71953433e-04\n",
      " -1.37653388e-03  5.82316658e-04  1.07563718e-03  1.56912580e-03\n",
      "  1.00934634e-03 -1.12537469e-03 -1.84350429e-04 -8.86820490e-04\n",
      "  6.76639029e-04  6.03902852e-04 -4.47997852e-04  7.75572786e-04\n",
      "  1.39883417e-03 -1.21888891e-03 -1.34394213e-03  7.47197832e-04\n",
      "  1.11685880e-03  1.24745304e-03 -1.42575521e-03 -3.19901534e-04\n",
      " -1.55149924e-03 -7.51447573e-04  2.63265974e-04  1.50467164e-03\n",
      " -1.33312028e-03 -6.99654571e-04 -4.33623703e-04 -1.41036406e-03\n",
      "  1.00667385e-04 -1.16723764e-03 -1.30477548e-03 -4.19757387e-04\n",
      " -1.23398111e-03  1.43256993e-03 -1.42722111e-03 -1.00539452e-04\n",
      "  1.30864372e-03 -1.53954211e-03  1.43570977e-03  1.41197885e-03\n",
      "  1.11754704e-03  1.56576373e-03 -1.54982926e-03  1.60922564e-03\n",
      " -5.12738770e-04  1.19591656e-03 -4.96512279e-04 -1.11676299e-03\n",
      "  6.95805647e-05  1.30277209e-03  5.53169462e-04 -6.52796938e-04\n",
      " -1.10637990e-03 -5.12573228e-04 -1.70269981e-04 -6.79047604e-04\n",
      " -8.71807977e-04  1.15202762e-04  2.10746919e-04 -2.92048237e-04\n",
      "  1.09650614e-03 -8.03421426e-04 -7.51006708e-04  3.94242641e-04\n",
      " -1.21796911e-03  9.11980460e-04  1.39720435e-03 -4.21383098e-04\n",
      "  5.80390042e-05 -7.58880691e-04 -1.11024105e-03  1.32086896e-03\n",
      " -2.58969143e-04 -1.03035534e-03  6.43416424e-04  1.65656768e-03\n",
      "  3.30654264e-04  2.31780577e-04  8.67423310e-04  7.80772825e-04\n",
      "  1.01512158e-03 -1.52440451e-03  1.47203868e-03 -3.03036766e-04\n",
      " -2.51157617e-04  1.29419507e-03 -7.38930248e-04 -1.43338309e-03\n",
      " -4.22297075e-04 -6.90707064e-04 -9.29121336e-04 -1.12158363e-03\n",
      " -1.42376244e-04  6.65322004e-05  1.00814924e-03  4.80649935e-04\n",
      "  2.76048831e-05 -4.84460797e-05  3.65437241e-04  7.97587272e-04\n",
      "  1.19932040e-04  2.07953533e-04  9.70499939e-04 -1.02133444e-03\n",
      " -8.13931751e-04 -9.09545925e-05 -3.20196559e-04 -1.25171407e-03\n",
      "  7.18044001e-04  2.38436609e-04  2.80264241e-04  4.03345854e-04\n",
      " -5.11896505e-04  8.43003334e-04  7.89650425e-04 -1.07750320e-03\n",
      " -1.06880628e-03 -1.17671664e-03 -1.52105920e-03 -8.84986133e-04\n",
      " -8.77221057e-04  1.44075530e-04  3.75190662e-04 -1.43133558e-03\n",
      "  5.38820095e-05  1.22926547e-03 -7.59027083e-04  5.20489470e-04\n",
      " -8.74669873e-04 -1.23605051e-03  3.13772965e-04  3.76286946e-04]\n",
      "[('职业', 0.14039422571659088), ('机会', 0.13376452028751373), ('双冠', 0.13304397463798523), ('继续', 0.12593066692352295), ('挑战', 0.1252700388431549), ('能够', 0.12060673534870148), ('长春', 0.11910080164670944), ('记者', 0.11872248351573944), ('联合', 0.1167270690202713), ('杯赛', 0.11035972833633423)]\n"
     ]
    },
    {
     "name": "stderr",
     "output_type": "stream",
     "text": [
      "/home/rollo/tensorflow/lib/python3.4/site-packages/gensim/matutils.py:737: FutureWarning: Conversion of the second argument of issubdtype from `int` to `np.signedinteger` is deprecated. In future, it will be treated as `np.int64 == np.dtype(int).type`.\n",
      "  if np.issubdtype(vec.dtype, np.int):\n"
     ]
    }
   ],
   "source": [
    "model = Word2Vec.load('word2vec.model')\n",
    "\n",
    "# 可以得到训练的词向量列表， 以及类似于“球员”的这个词的相似词， 但由于训练样本比较少， 训练结果可能不够准确。\n",
    "print(model.wv['球员'])\n",
    "\n",
    "print(model.wv.most_similar('球员'))"
   ]
  },
  {
   "cell_type": "code",
   "execution_count": 10,
   "metadata": {},
   "outputs": [
    {
     "name": "stdout",
     "output_type": "stream",
     "text": [
      "球员\n",
      "[('职业', 0.14039422571659088), ('机会', 0.13376452028751373), ('双冠', 0.13304397463798523), ('继续', 0.12593066692352295), ('挑战', 0.1252700388431549), ('能够', 0.12060673534870148), ('长春', 0.11910080164670944), ('记者', 0.11872248351573944), ('联合', 0.1167270690202713), ('杯赛', 0.11035972833633423)]\n",
      "大卫\n",
      "[('RamonaShelburne', 0.14195777475833893), ('会师', 0.13463562726974487), ('季后赛', 0.1342362016439438), ('热泪', 0.12559673190116882), ('浪费', 0.12098480761051178), ('试图', 0.11897175014019012), ('流下', 0.11227349936962128), ('施魏', 0.1110222339630127), ('破门', 0.10580919682979584), ('队长', 0.10342288762331009)]\n",
      "篮球\n",
      "[('老乡', 0.18572667241096497), ('想起', 0.13198336958885193), ('拜仁', 0.1244392842054367), ('继续', 0.1165984719991684), ('花式', 0.1111886277794838), ('泥潭', 0.10839512944221497), ('点球', 0.10629184544086456), ('不幸', 0.09841179102659225), ('MRI', 0.09224025160074234), ('赛季', 0.0884736180305481)]\n"
     ]
    },
    {
     "name": "stderr",
     "output_type": "stream",
     "text": [
      "/home/rollo/tensorflow/lib/python3.4/site-packages/gensim/matutils.py:737: FutureWarning: Conversion of the second argument of issubdtype from `int` to `np.signedinteger` is deprecated. In future, it will be treated as `np.int64 == np.dtype(int).type`.\n",
      "  if np.issubdtype(vec.dtype, np.int):\n"
     ]
    }
   ],
   "source": [
    "testwords = ['球员','大卫', '篮球']\n",
    "\n",
    "for i in range(3):\n",
    "\n",
    "    res = model.wv.most_similar(testwords[i])\n",
    "\n",
    "    print(testwords[i])\n",
    "\n",
    "    print(res)"
   ]
  },
  {
   "cell_type": "code",
   "execution_count": null,
   "metadata": {},
   "outputs": [],
   "source": []
  }
 ],
 "metadata": {
  "kernelspec": {
   "display_name": "Python 3",
   "language": "python",
   "name": "python3"
  },
  "language_info": {
   "codemirror_mode": {
    "name": "ipython",
    "version": 3
   },
   "file_extension": ".py",
   "mimetype": "text/x-python",
   "name": "python",
   "nbconvert_exporter": "python",
   "pygments_lexer": "ipython3",
   "version": "3.4.3"
  }
 },
 "nbformat": 4,
 "nbformat_minor": 2
}
