{
 "cells": [
  {
   "cell_type": "code",
   "execution_count": 1,
   "metadata": {},
   "outputs": [],
   "source": [
    "import pandas as pd\n",
    "import numpy as np\n",
    "%matplotlib inline\n",
    "from matplotlib import pyplot as plt  "
   ]
  },
  {
   "cell_type": "code",
   "execution_count": 2,
   "metadata": {},
   "outputs": [
    {
     "data": {
      "text/html": [
       "<div>\n",
       "<style scoped>\n",
       "    .dataframe tbody tr th:only-of-type {\n",
       "        vertical-align: middle;\n",
       "    }\n",
       "\n",
       "    .dataframe tbody tr th {\n",
       "        vertical-align: top;\n",
       "    }\n",
       "\n",
       "    .dataframe thead th {\n",
       "        text-align: right;\n",
       "    }\n",
       "</style>\n",
       "<table border=\"1\" class=\"dataframe\">\n",
       "  <thead>\n",
       "    <tr style=\"text-align: right;\">\n",
       "      <th></th>\n",
       "      <th>x1</th>\n",
       "      <th>x2</th>\n",
       "      <th>y</th>\n",
       "    </tr>\n",
       "  </thead>\n",
       "  <tbody>\n",
       "    <tr>\n",
       "      <th>0</th>\n",
       "      <td>1.413822</td>\n",
       "      <td>-0.902414</td>\n",
       "      <td>1</td>\n",
       "    </tr>\n",
       "    <tr>\n",
       "      <th>1</th>\n",
       "      <td>0.398968</td>\n",
       "      <td>0.840562</td>\n",
       "      <td>0</td>\n",
       "    </tr>\n",
       "    <tr>\n",
       "      <th>2</th>\n",
       "      <td>0.082914</td>\n",
       "      <td>1.001508</td>\n",
       "      <td>0</td>\n",
       "    </tr>\n",
       "    <tr>\n",
       "      <th>3</th>\n",
       "      <td>0.803345</td>\n",
       "      <td>0.971489</td>\n",
       "      <td>0</td>\n",
       "    </tr>\n",
       "    <tr>\n",
       "      <th>4</th>\n",
       "      <td>1.563305</td>\n",
       "      <td>-0.410711</td>\n",
       "      <td>1</td>\n",
       "    </tr>\n",
       "  </tbody>\n",
       "</table>\n",
       "</div>"
      ],
      "text/plain": [
       "         x1        x2  y\n",
       "0  1.413822 -0.902414  1\n",
       "1  0.398968  0.840562  0\n",
       "2  0.082914  1.001508  0\n",
       "3  0.803345  0.971489  0\n",
       "4  1.563305 -0.410711  1"
      ]
     },
     "execution_count": 2,
     "metadata": {},
     "output_type": "execute_result"
    }
   ],
   "source": [
    "TrainSet = pd.read_csv('MoonDataTrain.csv')\n",
    "TestSet = pd.read_csv('MoonDataTest.csv')\n",
    "TestSet.head()"
   ]
  },
  {
   "cell_type": "code",
   "execution_count": 3,
   "metadata": {},
   "outputs": [],
   "source": [
    "def plot_decision_boundary(pred_func):\n",
    "\n",
    "    # 设定最大最小值，附加一点点边缘填充\n",
    "    x_min, x_max = TrainSet.x1.min() - .5, TrainSet.x1.max() + .5\n",
    "    y_min, y_max = TrainSet.x2.min() - .5, TrainSet.x2.max() + .5\n",
    "    h = 0.01\n",
    "\n",
    "    xx, yy = np.meshgrid(np.arange(x_min, x_max, h), np.arange(y_min, y_max, h))\n",
    "\n",
    "    # 用预测函数预测一下\n",
    "    Z = pred_func(np.c_[xx.ravel(), yy.ravel()])\n",
    "    Z = Z.reshape(xx.shape)\n",
    "\n",
    "    # 然后画出图\n",
    "    plt.contourf(xx, yy, Z, cmap=plt.cm.Spectral)\n",
    "    plt.scatter(TestSet.x1, TestSet.x2, c=TestSet.y, cmap=plt.cm.Spectral)"
   ]
  },
  {
   "cell_type": "code",
   "execution_count": 4,
   "metadata": {},
   "outputs": [],
   "source": [
    "# 判定结果的函数\n",
    "def predict(model, x):\n",
    "    W1, b1, W2, b2 = model['W1'], model['b1'], model['W2'], model['b2']\n",
    "    # 前向运算\n",
    "    z1 = x.dot(W1) + b1\n",
    "    a1 = np.tanh(z1)\n",
    "    z2 = a1.dot(W2) + b2\n",
    "    exp_scores = np.exp(z2)\n",
    "    # 计算概率输出最大概率对应的类别\n",
    "    probs = exp_scores / np.sum(exp_scores, axis=1, keepdims=True)\n",
    "    return np.argmax(probs, axis=1)"
   ]
  },
  {
   "cell_type": "code",
   "execution_count": 5,
   "metadata": {},
   "outputs": [],
   "source": [
    "def calculate_loss(model, X, y):\n",
    "    num_examples = len(X) # 样本数\n",
    "    W1, b1, W2, b2 = model['W1'], model['b1'], model['W2'], model['b2']\n",
    "    # 向前推进，前向运算\n",
    "    z1 = X.dot(W1) + b1\n",
    "    a1 = np.tanh(z1)\n",
    "    z2 = a1.dot(W2) + b2\n",
    "    exp_scores = np.exp(z2)\n",
    "    probs = exp_scores / np.sum(exp_scores, axis=1, keepdims=True)\n",
    "    # 计算损失\n",
    "    corect_logprobs = -np.log(probs[range(num_examples), y])\n",
    "    data_loss = np.sum(corect_logprobs)\n",
    "    # 也得加一下正则化项\n",
    "    data_loss += reg_lambda/2 * (np.sum(np.square(W1)) + np.sum(np.square(W2)))\n",
    "    return 1./num_examples * data_loss"
   ]
  },
  {
   "cell_type": "code",
   "execution_count": 20,
   "metadata": {},
   "outputs": [],
   "source": [
    "# 完整的训练建模函数定义\n",
    "def build_model(nn_hdim, num_passes=20000, print_loss=False):\n",
    "    '''\n",
    "    参数：\n",
    "    1) nn_hdim: 隐层节点个数\n",
    "    2）num_passes: 梯度下降迭代次数\n",
    "    3）print_loss: 设定为True的话，每1000次迭代输出一次loss的当前值\n",
    "    '''\n",
    "    # 随机初始化一下权重呗\n",
    "    np.random.seed(0)\n",
    "    W1 = np.random.randn(nn_input_dim, nn_hdim) / np.sqrt(nn_input_dim)\n",
    "    b1 = np.zeros((1, nn_hdim))\n",
    "    W2 = np.random.randn(nn_hdim, nn_output_dim) / np.sqrt(nn_hdim)\n",
    "    b2 = np.zeros((1, nn_output_dim))\n",
    " \n",
    "    # 这是咱们最后学到的模型\n",
    "    model = {}\n",
    "    X = np.array(TrainSet.iloc[:,:2])\n",
    "    y = TrainSet.y\n",
    "    num_examples = len(X) # 样本数\n",
    "    # 开始梯度下降...\n",
    "    for i in range(0, num_passes):\n",
    " \n",
    "        # 前向运算计算loss\n",
    "        display(\"X:\",X, \"W1:\", W1,\"b1:\", b1)\n",
    "        z1 = X.dot(W1) + b1\n",
    "        display(\"z1:\",z1)\n",
    "        a1 = np.tanh(z1)\n",
    "        display(\"a1:\",a1, \"W2:\",W2,\"b2:\",b2)\n",
    "        z2 = a1.dot(W2) + b2\n",
    "        display(\"z2:\",z2)\n",
    "        exp_scores = np.exp(z2)\n",
    "        display(\"Exp_Score:\", exp_scores)\n",
    "        probs = exp_scores / np.sum(exp_scores, axis=1, keepdims=True)\n",
    " \n",
    "        # 反向传播,delta3/probs其实是一个softmax函数\n",
    "        delta3 = probs\n",
    "        # 损失函数对net_o1(也就是z2)的求导，就是下面这个delta3[range(num_examples), y] -= 1，详细可以看softmax函数求导过程\n",
    "        # 导数为a_i - y_i,a_i就是probs\n",
    "        display(\"Delta3:\",delta3,\"y:\",y)\n",
    "        delta3[range(num_examples), y] -= 1\n",
    "        #  z2 = a1.dot(W2) + b2\n",
    "        #  根据链式求导法则，损失函数求导 (a_i - y_i) * out_h1\n",
    "        display(\"a1.T:\",a1.T,\"Delta3 -1:\",delta3)\n",
    "        dW2 = (a1.T).dot(delta3)\n",
    "        display(\"dW2:\",dW2)\n",
    "        # delta3按列相加，其实前面还要乘以1，不过省略掉了。\n",
    "        db2 = np.sum(delta3, axis=0, keepdims=True)\n",
    "        # tanh的导数是sech^2x,也就是1-tanh^2x\n",
    "        # delta3是损失函数对z2求导，z2对a1求导是W2.T，a1对z1求导是1 - np.power(a1, 2)，z1第W1求导就是X.T\n",
    "        # 根据链式法则相乘，得到dW1，同理得到db1\n",
    "        delta2 = delta3.dot(W2.T) * (1 - np.power(a1, 2))\n",
    "        dW1 = np.dot(X.T, delta2)\n",
    "        db1 = np.sum(delta2, axis=0)\n",
    " \n",
    "        # 加上正则化，这里是1/2的L2范式\n",
    "        dW2 += reg_lambda * W2\n",
    "        dW1 += reg_lambda * W1\n",
    " \n",
    "        # 梯度下降更新参数\n",
    "        W1 += -epsilon * dW1\n",
    "        b1 += -epsilon * db1\n",
    "        W2 += -epsilon * dW2\n",
    "        b2 += -epsilon * db2\n",
    "         \n",
    "        # 得到的模型实际上就是这些权重\n",
    "        model = { 'W1': W1, 'b1': b1, 'W2': W2, 'b2': b2}\n",
    "         \n",
    "        # 如果设定print_loss了，那我们汇报一下中间状况\n",
    "        if print_loss and i % 1000 == 0:\n",
    "          print (\"Train Loss after iteration %i: %f\" %(i, \n",
    "                            calculate_loss(model, np.array(TrainSet.iloc[:,:2]), TrainSet.y)))\n",
    "        if print_loss and i % 5000 == 0:\n",
    "          print (\"-----> Test Loss after iteration %i: %f\" %(i, \n",
    "                            calculate_loss(model, np.array(TestSet.iloc[:,:2]), TestSet.y)))\n",
    "\n",
    "        break\n",
    "        \n",
    "    print(\"------> Train Stop at final Loss: %f\" % (calculate_loss(model, np.array(TestSet.iloc[:,:2]), TestSet.y)))\n",
    "    return model"
   ]
  },
  {
   "cell_type": "code",
   "execution_count": 21,
   "metadata": {},
   "outputs": [
    {
     "data": {
      "text/plain": [
       "'X:'"
      ]
     },
     "metadata": {},
     "output_type": "display_data"
    },
    {
     "data": {
      "text/plain": [
       "array([[ 0.54861667, -0.35150528],\n",
       "       [ 1.46502434, -0.15591275],\n",
       "       [ 0.88774605,  0.39764804],\n",
       "       ...,\n",
       "       [ 0.16548801,  1.25891019],\n",
       "       [ 0.24469925,  0.4190566 ],\n",
       "       [ 0.69675328,  0.37696216]])"
      ]
     },
     "metadata": {},
     "output_type": "display_data"
    },
    {
     "data": {
      "text/plain": [
       "'W1:'"
      ]
     },
     "metadata": {},
     "output_type": "display_data"
    },
    {
     "data": {
      "text/plain": [
       "array([[ 1.24737338,  0.28295388,  0.69207227],\n",
       "       [ 1.58455078,  1.32056292, -0.69103982]])"
      ]
     },
     "metadata": {},
     "output_type": "display_data"
    },
    {
     "data": {
      "text/plain": [
       "'b1:'"
      ]
     },
     "metadata": {},
     "output_type": "display_data"
    },
    {
     "data": {
      "text/plain": [
       "array([[0., 0., 0.]])"
      ]
     },
     "metadata": {},
     "output_type": "display_data"
    },
    {
     "data": {
      "text/plain": [
       "'z1:'"
      ]
     },
     "metadata": {},
     "output_type": "display_data"
    },
    {
     "data": {
      "text/plain": [
       "array([[ 0.12735187, -0.30895162,  0.62258652],\n",
       "       [ 1.58038068,  0.20864172,  1.12164463],\n",
       "       [ 1.73744429,  0.77631044,  0.33959379],\n",
       "       ...,\n",
       "       [ 2.20123246,  1.70929559, -0.75542741],\n",
       "       [ 0.96924778,  0.6226292 , -0.12023523],\n",
       "       [ 1.46642718,  0.6949513 ,  0.22170776]])"
      ]
     },
     "metadata": {},
     "output_type": "display_data"
    },
    {
     "data": {
      "text/plain": [
       "'a1:'"
      ]
     },
     "metadata": {},
     "output_type": "display_data"
    },
    {
     "data": {
      "text/plain": [
       "array([[ 0.12666783, -0.29948304,  0.55292635],\n",
       "       [ 0.91866132,  0.20566604,  0.80814021],\n",
       "       [ 0.93992953,  0.65058389,  0.3271147 ],\n",
       "       ...,\n",
       "       [ 0.97580213,  0.93656106, -0.63837571],\n",
       "       [ 0.74837355,  0.55295598, -0.11965917],\n",
       "       [ 0.89889371,  0.60115338,  0.21814516]])"
      ]
     },
     "metadata": {},
     "output_type": "display_data"
    },
    {
     "data": {
      "text/plain": [
       "'W2:'"
      ]
     },
     "metadata": {},
     "output_type": "display_data"
    },
    {
     "data": {
      "text/plain": [
       "array([[ 0.5485338 , -0.08738612],\n",
       "       [-0.05959343,  0.23705916],\n",
       "       [ 0.08316359,  0.8396252 ]])"
      ]
     },
     "metadata": {},
     "output_type": "display_data"
    },
    {
     "data": {
      "text/plain": [
       "'b2:'"
      ]
     },
     "metadata": {},
     "output_type": "display_data"
    },
    {
     "data": {
      "text/plain": [
       "array([[0., 0.]])"
      ]
     },
     "metadata": {},
     "output_type": "display_data"
    },
    {
     "data": {
      "text/plain": [
       "'z2:'"
      ]
     },
     "metadata": {},
     "output_type": "display_data"
    },
    {
     "data": {
      "text/plain": [
       "array([[ 0.13331215,  0.38218669],\n",
       "       [ 0.55886829,  0.64701165],\n",
       "       [ 0.50401663,  0.34674382],\n",
       "       ...,\n",
       "       [ 0.42635794, -0.39924753],\n",
       "       [ 0.36760436, -0.03478304],\n",
       "       [ 0.47539053,  0.24711825]])"
      ]
     },
     "metadata": {},
     "output_type": "display_data"
    },
    {
     "data": {
      "text/plain": [
       "'Exp_Score:'"
      ]
     },
     "metadata": {},
     "output_type": "display_data"
    },
    {
     "data": {
      "text/plain": [
       "array([[1.14260661, 1.46548565],\n",
       "       [1.74869237, 1.90982507],\n",
       "       [1.65535689, 1.41445432],\n",
       "       ...,\n",
       "       [1.53166893, 0.67082463],\n",
       "       [1.44427051, 0.96581494],\n",
       "       [1.60864229, 1.2803305 ]])"
      ]
     },
     "metadata": {},
     "output_type": "display_data"
    },
    {
     "data": {
      "text/plain": [
       "'Delta3:'"
      ]
     },
     "metadata": {},
     "output_type": "display_data"
    },
    {
     "data": {
      "text/plain": [
       "array([[0.43810053, 0.56189947],\n",
       "       [0.47797842, 0.52202158],\n",
       "       [0.53923736, 0.46076264],\n",
       "       ...,\n",
       "       [0.69542493, 0.30457507],\n",
       "       [0.59926112, 0.40073888],\n",
       "       [0.55682154, 0.44317846]])"
      ]
     },
     "metadata": {},
     "output_type": "display_data"
    },
    {
     "data": {
      "text/plain": [
       "'y:'"
      ]
     },
     "metadata": {},
     "output_type": "display_data"
    },
    {
     "data": {
      "text/plain": [
       "0       1\n",
       "1       1\n",
       "2       0\n",
       "3       0\n",
       "4       0\n",
       "5       0\n",
       "6       1\n",
       "7       0\n",
       "8       0\n",
       "9       1\n",
       "10      0\n",
       "11      1\n",
       "12      1\n",
       "13      0\n",
       "14      0\n",
       "15      1\n",
       "16      0\n",
       "17      0\n",
       "18      0\n",
       "19      1\n",
       "20      0\n",
       "21      0\n",
       "22      0\n",
       "23      1\n",
       "24      0\n",
       "25      0\n",
       "26      1\n",
       "27      0\n",
       "28      0\n",
       "29      0\n",
       "       ..\n",
       "1970    1\n",
       "1971    0\n",
       "1972    1\n",
       "1973    0\n",
       "1974    0\n",
       "1975    0\n",
       "1976    1\n",
       "1977    0\n",
       "1978    0\n",
       "1979    1\n",
       "1980    1\n",
       "1981    0\n",
       "1982    1\n",
       "1983    1\n",
       "1984    1\n",
       "1985    1\n",
       "1986    0\n",
       "1987    0\n",
       "1988    0\n",
       "1989    1\n",
       "1990    1\n",
       "1991    1\n",
       "1992    0\n",
       "1993    1\n",
       "1994    1\n",
       "1995    0\n",
       "1996    0\n",
       "1997    0\n",
       "1998    1\n",
       "1999    1\n",
       "Name: y, Length: 2000, dtype: int64"
      ]
     },
     "metadata": {},
     "output_type": "display_data"
    },
    {
     "data": {
      "text/plain": [
       "'Delta3 -1:'"
      ]
     },
     "metadata": {},
     "output_type": "display_data"
    },
    {
     "data": {
      "text/plain": [
       "array([[ 0.43810053, -0.43810053],\n",
       "       [ 0.47797842, -0.47797842],\n",
       "       [-0.46076264,  0.46076264],\n",
       "       ...,\n",
       "       [-0.30457507,  0.30457507],\n",
       "       [ 0.59926112, -0.59926112],\n",
       "       [ 0.55682154, -0.55682154]])"
      ]
     },
     "metadata": {},
     "output_type": "display_data"
    },
    {
     "data": {
      "text/plain": [
       "'a1.T:'"
      ]
     },
     "metadata": {},
     "output_type": "display_data"
    },
    {
     "data": {
      "text/plain": [
       "3"
      ]
     },
     "metadata": {},
     "output_type": "display_data"
    },
    {
     "data": {
      "text/plain": [
       "array([[ 0.12666783,  0.91866132,  0.93992953, ...,  0.97580213,\n",
       "         0.74837355,  0.89889371],\n",
       "       [-0.29948304,  0.20566604,  0.65058389, ...,  0.93656106,\n",
       "         0.55295598,  0.60115338],\n",
       "       [ 0.55292635,  0.80814021,  0.3271147 , ..., -0.63837571,\n",
       "        -0.11965917,  0.21814516]])"
      ]
     },
     "metadata": {},
     "output_type": "display_data"
    },
    {
     "data": {
      "text/plain": [
       "'dW2:'"
      ]
     },
     "metadata": {},
     "output_type": "display_data"
    },
    {
     "data": {
      "text/plain": [
       "array([[  53.17721687,  -53.17721687],\n",
       "       [-187.49928649,  187.49928649],\n",
       "       [ 370.14833254, -370.14833254]])"
      ]
     },
     "metadata": {},
     "output_type": "display_data"
    },
    {
     "name": "stdout",
     "output_type": "stream",
     "text": [
      "Train Loss after iteration 0: 0.420346\n",
      "-----> Test Loss after iteration 0: 0.430698\n",
      "------> Train Stop at final Loss: 0.430698\n"
     ]
    },
    {
     "data": {
      "image/png": "[encoded data removed]",
      "text/plain": [
       "<Figure size 432x288 with 1 Axes>"
      ]
     },
     "metadata": {},
     "output_type": "display_data"
    }
   ],
   "source": [
    "nn_input_dim = 2 # 输入的维度\n",
    "nn_output_dim = 2 # 输出的类别个数\n",
    " \n",
    "# 梯度下降参数\n",
    "epsilon = 0.001 # 学习率\n",
    "reg_lambda = 0.0001 # 正则化参数\n",
    "\n",
    "# 建立隐层有3个节点(神经元)的神经网络\n",
    "model = build_model(3,print_loss=True)\n",
    " \n",
    "# 然后再把决策/判定边界画出来\n",
    "plot_decision_boundary(lambda x: predict(model, x))\n",
    "plt.title(\"Decision Boundary for hidden layer size 3\")\n",
    "plt.show()"
   ]
  },
  {
   "cell_type": "code",
   "execution_count": null,
   "metadata": {},
   "outputs": [],
   "source": []
  },
  {
   "cell_type": "code",
   "execution_count": null,
   "metadata": {},
   "outputs": [],
   "source": []
  }
 ],
 "metadata": {
  "kernelspec": {
   "display_name": "Python 3",
   "language": "python",
   "name": "python3"
  },
  "language_info": {
   "codemirror_mode": {
    "name": "ipython",
    "version": 3
   },
   "file_extension": ".py",
   "mimetype": "text/x-python",
   "name": "python",
   "nbconvert_exporter": "python",
   "pygments_lexer": "ipython3",
   "version": "3.4.3"
  }
 },
 "nbformat": 4,
 "nbformat_minor": 2
}
