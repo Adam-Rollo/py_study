{
 "cells": [
  {
   "cell_type": "code",
   "execution_count": 2,
   "metadata": {},
   "outputs": [
    {
     "name": "stdout",
     "output_type": "stream",
     "text": [
      "Downloading data from https://www.cs.toronto.edu/~kriz/cifar-10-python.tar.gz\n",
      "170500096/170498071 [==============================] - 642s 4us/step\n"
     ]
    }
   ],
   "source": [
    "import numpy as np\n",
    "\n",
    "from keras.models import Sequential\n",
    "\n",
    "from keras.layers import Dense, Dropout, Flatten, Conv2D, MaxPool2D\n",
    "\n",
    "from keras.preprocessing.image import ImageDataGenerator\n",
    "\n",
    "from keras.utils import np_utils\n",
    "\n",
    "from keras.datasets import cifar10\n",
    "\n",
    "(X_train, y_train), (X_test, y_test) = cifar10.load_data()"
   ]
  },
  {
   "cell_type": "code",
   "execution_count": 7,
   "metadata": {},
   "outputs": [
    {
     "name": "stdout",
     "output_type": "stream",
     "text": [
      "(50000, 32, 32, 3)\n",
      "(50000, 1)\n"
     ]
    }
   ],
   "source": [
    "print(X_train.shape)\n",
    "print(y_train.shape)"
   ]
  },
  {
   "cell_type": "code",
   "execution_count": 10,
   "metadata": {},
   "outputs": [],
   "source": [
    "# 图片的长宽，以及分类的数量（十分类）\n",
    "height, width, nb_class = 32, 32, 10\n",
    "# 对图片的RGB通道做归一化\n",
    "X_train = X_train / 255\n",
    "X_test = X_test / 255.\n",
    "# 将标签y转为分类\n",
    "y_train = np_utils.to_categorical(y_train, nb_class)\n",
    "y_test = np_utils.to_categorical(y_test, nb_class)\n",
    "#  图像数据生成器，这里会根据已有图片，进行平移，旋转等操作生成一批新的图片用来训练，这个可以扩充数据集以及减少过拟合\n",
    "gen = ImageDataGenerator()"
   ]
  },
  {
   "cell_type": "code",
   "execution_count": 17,
   "metadata": {},
   "outputs": [
    {
     "name": "stdout",
     "output_type": "stream",
     "text": [
      "_________________________________________________________________\n",
      "Layer (type)                 Output Shape              Param #   \n",
      "=================================================================\n",
      "conv2d_7 (Conv2D)            (None, 32, 32, 32)        896       \n",
      "_________________________________________________________________\n",
      "conv2d_8 (Conv2D)            (None, 30, 30, 32)        9248      \n",
      "_________________________________________________________________\n",
      "max_pooling2d_4 (MaxPooling2 (None, 15, 15, 32)        0         \n",
      "_________________________________________________________________\n",
      "dropout_5 (Dropout)          (None, 15, 15, 32)        0         \n",
      "_________________________________________________________________\n",
      "conv2d_9 (Conv2D)            (None, 15, 15, 64)        18496     \n",
      "_________________________________________________________________\n",
      "conv2d_10 (Conv2D)           (None, 13, 13, 64)        36928     \n",
      "_________________________________________________________________\n",
      "max_pooling2d_5 (MaxPooling2 (None, 6, 6, 64)          0         \n",
      "_________________________________________________________________\n",
      "dropout_6 (Dropout)          (None, 6, 6, 64)          0         \n",
      "_________________________________________________________________\n",
      "flatten_2 (Flatten)          (None, 2304)              0         \n",
      "_________________________________________________________________\n",
      "dense_3 (Dense)              (None, 512)               1180160   \n",
      "_________________________________________________________________\n",
      "dropout_7 (Dropout)          (None, 512)               0         \n",
      "_________________________________________________________________\n",
      "dense_4 (Dense)              (None, 10)                5130      \n",
      "=================================================================\n",
      "Total params: 1,250,858\n",
      "Trainable params: 1,250,858\n",
      "Non-trainable params: 0\n",
      "_________________________________________________________________\n"
     ]
    }
   ],
   "source": [
    "#搭建网络\n",
    "model = Sequential()\n",
    "#  the dimensionality of the output space is 32(该层卷积输出尺寸)\n",
    "# 卷积核的size为3，激活函数为relu，relu图像为max(0, x)\n",
    "model.add(Conv2D(32, 3, padding='same', input_shape=X_train.shape[1:], activation='relu'))\n",
    "# 第二层卷积\n",
    "model.add(Conv2D(32, 3, activation='relu'))\n",
    "# MaxPool，池化处理，2x2中最大的值选中\n",
    "model.add(MaxPool2D(2))\n",
    "# Dropout，增加一个Dropout层。每次训练时，都随机失活一定的神经元，这样可以防止过拟合 。一般会过滤掉50%的数据，这里过滤掉25%\n",
    "model.add(Dropout(0.25))\n",
    "#再加入两个卷积，一个池化和一个失活\n",
    "model.add(Conv2D(64, 3, padding='same', activation='relu'))\n",
    "model.add(Conv2D(64, 3, activation='relu'))\n",
    "model.add(MaxPool2D(2))\n",
    "model.add(Dropout(0.25))\n",
    "# 然后添加展开层，它可以将这个tensor展开成一个一维张量，就是向量\n",
    "model.add(Flatten())\n",
    "# Dense就是全连接层，开始多层感知器，这一层有512个神经元\n",
    "model.add(Dense(512, activation='relu'))\n",
    "model.add(Dropout(0.5))\n",
    "# 输出层，这一层只有nb_class个神经元了\n",
    "model.add(Dense(nb_class, activation='softmax'))\n",
    "\n",
    "# 看看我们神经网络的结构\n",
    "# 因为核是3，所以图片尺寸变成了32 - 2 * ((3-1) / 2) = 30\n",
    "# 池化图片尺寸减半\n",
    "model.summary()"
   ]
  },
  {
   "cell_type": "code",
   "execution_count": null,
   "metadata": {},
   "outputs": [
    {
     "name": "stdout",
     "output_type": "stream",
     "text": [
      "Epoch 1/20\n",
      " 2220/50000 [>.............................] - ETA: 2:59:55 - loss: 1.4197 - acc: 0.4850"
     ]
    }
   ],
   "source": [
    "# 开始训练\n",
    "# 损失函数为categorical_crossentropy, 多分类常用的损失函数。计算输出张量和目标张量的类别交叉熵\n",
    "# 交叉熵计算公式为H((1,0,0),(0.5,0.4,0.1)) = -(1*log0.5 + 0 * log0.4 + 0*log0.1 ) = 0.3\n",
    "# metrics: List of metrics to be evaluated by the model, during training and testing. Typically you will use `metrics=['accuracy']`.\n",
    "model.compile(loss='categorical_crossentropy', optimizer='Adam', metrics=['accuracy'])\n",
    "# 训练方法\n",
    "batch_size = 32\n",
    "model.fit_generator(gen.flow(X_train, y_train, batch_size=batch_size),\n",
    "                   steps_per_epoch=X_train.shape[0],\n",
    "                   epochs=20, verbose=1, validation_data=(X_test, y_test))"
   ]
  },
  {
   "cell_type": "code",
   "execution_count": null,
   "metadata": {},
   "outputs": [],
   "source": [
    "# 模型预测，由于本地根本训练不了这么大的数据集，所以这里就仅仅把代码记录下来\n",
    "y_preds = model.predict(X_test[:10])\n",
    "\n",
    "cifar10_cats = {0: 'airplane', 1: 'automobile', 2: 'bird', 3: 'cat', 4: 'deer', 5: 'dog',\n",
    "                6: 'frog', 7: 'horse', 8: 'ship', 9: 'truck'}\n",
    "\n",
    "for i in range(10):\n",
    "    print('正确结果: {}\\n预测结果: {}\\n'.format(cifar10_cats[np.argmax(y_test[i])], \n",
    "                                            cifar10_cats[np.argmax(y_preds[i])]))"
   ]
  }
 ],
 "metadata": {
  "kernelspec": {
   "display_name": "Python 3",
   "language": "python",
   "name": "python3"
  },
  "language_info": {
   "codemirror_mode": {
    "name": "ipython",
    "version": 3
   },
   "file_extension": ".py",
   "mimetype": "text/x-python",
   "name": "python",
   "nbconvert_exporter": "python",
   "pygments_lexer": "ipython3",
   "version": "3.4.3"
  }
 },
 "nbformat": 4,
 "nbformat_minor": 2
}
