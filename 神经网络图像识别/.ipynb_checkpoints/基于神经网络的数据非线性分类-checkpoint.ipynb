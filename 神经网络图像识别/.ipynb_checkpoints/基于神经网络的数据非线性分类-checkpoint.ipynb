{
 "cells": [
  {
   "cell_type": "code",
   "execution_count": 1,
   "metadata": {},
   "outputs": [],
   "source": [
    "import numpy as np\n",
    "import tensorflow as tf\n",
    "from tensorflow.examples.tutorials.mnist import input_data\n",
    "import os\n",
    "\n",
    "%matplotlib inline\n",
    "import matplotlib.pyplot as plt"
   ]
  },
  {
   "cell_type": "code",
   "execution_count": 2,
   "metadata": {},
   "outputs": [
    {
     "name": "stdout",
     "output_type": "stream",
     "text": [
      "Extracting MNIST_DATA/train-images-idx3-ubyte.gz\n",
      "Extracting MNIST_DATA/train-labels-idx1-ubyte.gz\n",
      "Extracting MNIST_DATA/t10k-images-idx3-ubyte.gz\n",
      "Extracting MNIST_DATA/t10k-labels-idx1-ubyte.gz\n"
     ]
    }
   ],
   "source": [
    "mnist = input_data.read_data_sets('MNIST_DATA', one_hot=True)"
   ]
  },
  {
   "cell_type": "code",
   "execution_count": 3,
   "metadata": {},
   "outputs": [],
   "source": [
    "class MNISTModel(object):\n",
    "    def __init__(self, lr, batch_size, iter_num):\n",
    "        self.lr = lr\n",
    "        self.batch_size = batch_size\n",
    "        self.iter_num = iter_num\n",
    "        # 定义模型结构\n",
    "        # 输入张量，这里还没有数据，先占个地方，所以叫“placeholder”\n",
    "        self.x = tf.placeholder(tf.float32, [None, 784])   # 图像是28*28的大小\n",
    "        self.y = tf.placeholder(tf.float32, [None, 10])    # 输出是0-9的one-hot向量\n",
    "        self.h = tf.layers.dense(self.x, 100, activation=tf.nn.relu, use_bias=True, kernel_initializer=tf.truncated_normal_initializer) # 一个全连接层\n",
    "        self.y_ = tf.layers.dense(self.h, 10, use_bias=True, kernel_initializer=tf.truncated_normal_initializer) # 全连接层\n",
    "        \n",
    "        # 使用交叉熵损失函数\n",
    "        self.loss = tf.losses.softmax_cross_entropy(self.y, self.y_)\n",
    "        self.optimizer = tf.train.AdamOptimizer()\n",
    "        self.train_step = self.optimizer.minimize(self.loss)\n",
    "        \n",
    "        # 用于模型训练\n",
    "        self.correct_prediction = tf.equal(tf.argmax(self.y, axis=1), tf.argmax(self.y_, axis=1))\n",
    "        self.accuracy = tf.reduce_mean(tf.cast(self.correct_prediction, tf.float32))\n",
    "        \n",
    "        # 用于保存训练好的模型\n",
    "        self.saver = tf.train.Saver()\n",
    "        \n",
    "    def train(self):\n",
    "        with tf.Session() as sess:            #  打开一个会话。可以想象成浏览器打开一个标签页一样，直观地理解一下\n",
    "            sess.run(tf.global_variables_initializer())  # 先初始化所有变量。\n",
    "            for i in range(self.iter_num):\n",
    "                batch_x, batch_y = mnist.train.next_batch(self.batch_size)   # 读取一批数据\n",
    "                loss, _ = sess.run([self.loss, self.train_step], feed_dict={self.x: batch_x, self.y: batch_y})   # 每调用一次sess.run，就像拧开水管一样，所有self.loss和self.train_step涉及到的运算都会被调用一次。\n",
    "                if i%1000 == 0:    \n",
    "                    train_accuracy = sess.run(self.accuracy, feed_dict={self.x: batch_x, self.y: batch_y})  # 把训练集数据装填进去\n",
    "                    test_x, test_y = mnist.test.next_batch(self.batch_size)\n",
    "                    test_accuracy = sess.run(self.accuracy, feed_dict={self.x: test_x, self.y: test_y})   # 把测试集数据装填进去\n",
    "                    print( 'iter\\t%i\\tloss\\t%f\\ttrain_accuracy\\t%f\\ttest_accuracy\\t%f' % (i,loss,train_accuracy,test_accuracy))\n",
    "            self.saver.save(sess, 'model/mnistModel') # 保存模型\n",
    "    def test(self):\n",
    "        with tf.Session() as sess:\n",
    "            self.saver.restore(sess, 'model/mnistModel')\n",
    "            Accuracy = []\n",
    "            for i in range(150):\n",
    "                test_x, test_y = mnist.test.next_batch(self.batch_size)\n",
    "                test_accuracy = sess.run(self.accuracy, feed_dict={self.x: test_x, self.y: test_y})\n",
    "                Accuracy.append(test_accuracy)\n",
    "            print ('==' * 15)\n",
    "            print ('Test Accuracy: ', np.mean(np.array(Accuracy)))"
   ]
  },
  {
   "cell_type": "code",
   "execution_count": null,
   "metadata": {},
   "outputs": [
    {
     "name": "stdout",
     "output_type": "stream",
     "text": [
      "WARNING:tensorflow:From /home/rollo/tensorflow/lib/python3.4/site-packages/tensorflow/python/ops/losses/losses_impl.py:731: softmax_cross_entropy_with_logits (from tensorflow.python.ops.nn_ops) is deprecated and will be removed in a future version.\n",
      "Instructions for updating:\n",
      "\n",
      "Future major versions of TensorFlow will allow gradients to flow\n",
      "into the labels input on backprop by default.\n",
      "\n",
      "See tf.nn.softmax_cross_entropy_with_logits_v2.\n",
      "\n",
      "iter\t0\tloss\t46.727688\ttrain_accuracy\t0.171875\ttest_accuracy\t0.078125\n",
      "iter\t1000\tloss\t4.130500\ttrain_accuracy\t0.781250\ttest_accuracy\t0.890625\n",
      "iter\t2000\tloss\t0.940501\ttrain_accuracy\t0.906250\ttest_accuracy\t0.859375\n",
      "iter\t3000\tloss\t2.045187\ttrain_accuracy\t0.875000\ttest_accuracy\t0.921875\n",
      "iter\t4000\tloss\t1.409170\ttrain_accuracy\t0.875000\ttest_accuracy\t0.875000\n",
      "iter\t5000\tloss\t0.033867\ttrain_accuracy\t0.968750\ttest_accuracy\t0.984375\n",
      "iter\t6000\tloss\t0.650627\ttrain_accuracy\t0.890625\ttest_accuracy\t0.921875\n",
      "iter\t7000\tloss\t0.155243\ttrain_accuracy\t0.968750\ttest_accuracy\t0.921875\n",
      "iter\t8000\tloss\t0.507595\ttrain_accuracy\t0.921875\ttest_accuracy\t0.906250\n",
      "iter\t9000\tloss\t0.256895\ttrain_accuracy\t0.953125\ttest_accuracy\t0.968750\n",
      "iter\t10000\tloss\t0.004497\ttrain_accuracy\t1.000000\ttest_accuracy\t1.000000\n",
      "iter\t11000\tloss\t0.464766\ttrain_accuracy\t0.953125\ttest_accuracy\t0.937500\n",
      "iter\t12000\tloss\t0.759865\ttrain_accuracy\t0.953125\ttest_accuracy\t0.906250\n",
      "iter\t13000\tloss\t0.008260\ttrain_accuracy\t1.000000\ttest_accuracy\t0.968750\n",
      "iter\t14000\tloss\t0.072601\ttrain_accuracy\t0.968750\ttest_accuracy\t0.937500\n",
      "iter\t15000\tloss\t0.081560\ttrain_accuracy\t0.984375\ttest_accuracy\t0.921875\n",
      "iter\t16000\tloss\t0.134354\ttrain_accuracy\t0.984375\ttest_accuracy\t0.921875\n",
      "iter\t17000\tloss\t0.102145\ttrain_accuracy\t0.968750\ttest_accuracy\t0.937500\n",
      "iter\t18000\tloss\t0.962368\ttrain_accuracy\t0.968750\ttest_accuracy\t0.921875\n",
      "iter\t19000\tloss\t0.000245\ttrain_accuracy\t1.000000\ttest_accuracy\t0.953125\n",
      "iter\t20000\tloss\t0.010488\ttrain_accuracy\t1.000000\ttest_accuracy\t0.937500\n",
      "iter\t21000\tloss\t0.009436\ttrain_accuracy\t1.000000\ttest_accuracy\t0.953125\n",
      "iter\t22000\tloss\t0.008218\ttrain_accuracy\t1.000000\ttest_accuracy\t0.984375\n",
      "iter\t23000\tloss\t0.011637\ttrain_accuracy\t1.000000\ttest_accuracy\t0.906250\n",
      "iter\t24000\tloss\t0.116606\ttrain_accuracy\t0.984375\ttest_accuracy\t0.984375\n",
      "iter\t25000\tloss\t0.045147\ttrain_accuracy\t1.000000\ttest_accuracy\t0.953125\n",
      "iter\t26000\tloss\t0.003233\ttrain_accuracy\t1.000000\ttest_accuracy\t0.968750\n",
      "iter\t27000\tloss\t0.003985\ttrain_accuracy\t1.000000\ttest_accuracy\t0.984375\n",
      "iter\t28000\tloss\t0.003106\ttrain_accuracy\t1.000000\ttest_accuracy\t0.953125\n",
      "iter\t29000\tloss\t0.000715\ttrain_accuracy\t1.000000\ttest_accuracy\t1.000000\n",
      "iter\t30000\tloss\t0.002552\ttrain_accuracy\t1.000000\ttest_accuracy\t0.906250\n",
      "iter\t31000\tloss\t0.000294\ttrain_accuracy\t1.000000\ttest_accuracy\t0.890625\n",
      "iter\t32000\tloss\t0.003705\ttrain_accuracy\t1.000000\ttest_accuracy\t0.968750\n",
      "iter\t33000\tloss\t0.000490\ttrain_accuracy\t1.000000\ttest_accuracy\t0.984375\n",
      "iter\t34000\tloss\t0.061280\ttrain_accuracy\t0.984375\ttest_accuracy\t0.984375\n",
      "iter\t35000\tloss\t0.018241\ttrain_accuracy\t1.000000\ttest_accuracy\t1.000000\n"
     ]
    }
   ],
   "source": [
    "model = MNISTModel(0.001, 64, 40000)   # 学习率为0.001，每批传入64张图，训练40000次\n",
    "model.train()      # 训练模型\n",
    "model.test()       #测试模型"
   ]
  },
  {
   "cell_type": "code",
   "execution_count": null,
   "metadata": {},
   "outputs": [],
   "source": []
  }
 ],
 "metadata": {
  "kernelspec": {
   "display_name": "Python 3",
   "language": "python",
   "name": "python3"
  },
  "language_info": {
   "codemirror_mode": {
    "name": "ipython",
    "version": 3
   },
   "file_extension": ".py",
   "mimetype": "text/x-python",
   "name": "python",
   "nbconvert_exporter": "python",
   "pygments_lexer": "ipython3",
   "version": "3.4.3"
  }
 },
 "nbformat": 4,
 "nbformat_minor": 2
}
