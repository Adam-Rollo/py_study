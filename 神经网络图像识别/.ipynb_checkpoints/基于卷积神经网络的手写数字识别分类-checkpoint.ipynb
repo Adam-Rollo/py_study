{
 "cells": [
  {
   "cell_type": "code",
   "execution_count": 1,
   "metadata": {},
   "outputs": [],
   "source": [
    "import numpy as np\n",
    "import tensorflow as tf\n",
    "from tensorflow.examples.tutorials.mnist import input_data\n",
    "import os\n",
    "%matplotlib inline\n",
    "import matplotlib.pyplot as plt"
   ]
  },
  {
   "cell_type": "code",
   "execution_count": 2,
   "metadata": {},
   "outputs": [
    {
     "name": "stdout",
     "output_type": "stream",
     "text": [
      "Extracting MNIST_DATA/train-images-idx3-ubyte.gz\n",
      "Extracting MNIST_DATA/train-labels-idx1-ubyte.gz\n",
      "Extracting MNIST_DATA/t10k-images-idx3-ubyte.gz\n",
      "Extracting MNIST_DATA/t10k-labels-idx1-ubyte.gz\n"
     ]
    }
   ],
   "source": [
    "mnist = input_data.read_data_sets('MNIST_DATA', one_hot=True)"
   ]
  },
  {
   "cell_type": "code",
   "execution_count": 3,
   "metadata": {},
   "outputs": [],
   "source": [
    "class ConvModel(object):    \n",
    "    def __init__(self, lr, batch_size, iter_num):\n",
    "        self.lr = lr\n",
    "        self.batch_size = batch_size\n",
    "        self.iter_num = iter_num\n",
    "        \n",
    "        self.X_flat = tf.placeholder(tf.float32, [None, 784])\n",
    "        self.X = tf.reshape(self.X_flat, [-1, 28, 28, 1]) # 本次要用卷积进行运算，所以使用2维矩阵。从这个角度讲，利用了更多的位置信息。\n",
    "        self.y = tf.placeholder(tf.float32, [None, 10])\n",
    "        self.dropRate = tf.placeholder(tf.float32)\n",
    "\n",
    "\n",
    "        conv1 = tf.layers.conv2d(self.X, 32, 5, padding='same', activation=tf.nn.relu,\n",
    "                                     kernel_initializer=tf.truncated_normal_initializer(stddev=0.1, seed=0),\n",
    "                                     bias_initializer=tf.constant_initializer(0.1))        \n",
    "        conv1 = tf.layers.max_pooling2d(conv1 , 2,2)        \n",
    "        conv2 = tf.layers.conv2d(conv1, 64, 5, padding='same', activation=tf.nn.relu,\n",
    "                                     kernel_initializer=tf.truncated_normal_initializer(stddev=0.1, seed=0),\n",
    "                                     bias_initializer=tf.constant_initializer(0.1))\n",
    "        pool1 = tf.layers.max_pooling2d(conv2, 2,2)               \n",
    "        flatten = tf.reshape(pool1 , [-1, 7*7*64])\n",
    "        dense1 = tf.layers.dense(flatten, 1024,  activation=tf.nn.relu, use_bias=True,\n",
    "                                 kernel_initializer=tf.truncated_normal_initializer(stddev=0.1, seed=0),\n",
    "                                 bias_initializer=tf.constant_initializer(0.1))\n",
    "        dense1_ = tf.nn.dropout(dense1, self.dropRate)\n",
    "        dense2 = tf.layers.dense(dense1_, 10, activation=tf.nn.relu, use_bias=True,\n",
    "                                 kernel_initializer=tf.truncated_normal_initializer(stddev=0.1, seed=0),\n",
    "                                 bias_initializer=tf.constant_initializer(0.1))\n",
    "\n",
    "        self.loss = tf.losses.softmax_cross_entropy(onehot_labels=self.y, logits=dense2)\n",
    "        self.train_step = tf.train.AdamOptimizer(1e-4).minimize(self.loss )\n",
    "        \n",
    "        # 用于模型训练\n",
    "        self.correct_prediction = tf.equal(tf.argmax(self.y, axis=1), tf.argmax(dense2, axis=1))\n",
    "        self.accuracy = tf.reduce_mean(tf.cast(self.correct_prediction, tf.float32))\n",
    "        # 用于保存训练好的模型\n",
    "        self.saver = tf.train.Saver()\n",
    "    def train(self):\n",
    "        with tf.Session() as sess:\n",
    "            sess.run(tf.global_variables_initializer())  # 先初始化所有变量。\n",
    "            for i in range(self.iter_num):\n",
    "                batch_x, batch_y = mnist.train.next_batch(self.batch_size)   # 读取一批数据\n",
    "                loss, _= sess.run([self.loss, self.train_step], \n",
    "                                  feed_dict={self.X_flat: batch_x, self.y: batch_y, self.dropRate: 0.5})   # 每调用一次sess.run，就像拧开水管一样，所有self.loss和self.train_step涉及到的运算都会被调用一次。\n",
    "                if i%1000 == 0:                        \n",
    "                    train_accuracy = sess.run(self.accuracy, feed_dict={self.X_flat: batch_x, self.y: batch_y, self.dropRate: 1.})  # 把训练集数据装填进去\n",
    "                    test_x, test_y = mnist.test.next_batch(self.batch_size)\n",
    "                    test_accuracy = sess.run(self.accuracy, feed_dict={self.X_flat: test_x, self.y: test_y, self.dropRate: 1.})   # 把测试集数据装填进去\n",
    "                    print ('iter\\t%i\\tloss\\t%f\\ttrain_accuracy\\t%f\\ttest_accuracy\\t%f' % (i,loss,train_accuracy,test_accuracy))\n",
    "            self.saver.save(sess, 'model/mnistCNNModel') # 保存模型\n",
    "\n",
    "    def test(self):\n",
    "        with tf.Session() as sess:\n",
    "            self.saver.restore(sess, 'model/mnistCNNModel')\n",
    "            Accuracy = []\n",
    "            for i in range(int(10000/self.batch_size)):\n",
    "                test_x, test_y = mnist.test.next_batch(self.batch_size)\n",
    "                test_accuracy = sess.run(self.accuracy, feed_dict={self.X_flat: test_x, self.y: test_y, self.dropRate: 1.})\n",
    "                Accuracy.append(test_accuracy)\n",
    "            print('==' * 15) \n",
    "            print( 'Test Accuracy: ', np.mean(np.array(Accuracy))   ) \n"
   ]
  },
  {
   "cell_type": "code",
   "execution_count": null,
   "metadata": {},
   "outputs": [
    {
     "name": "stdout",
     "output_type": "stream",
     "text": [
      "WARNING:tensorflow:From /home/rollo/tensorflow/lib/python3.4/site-packages/tensorflow/python/ops/losses/losses_impl.py:731: softmax_cross_entropy_with_logits (from tensorflow.python.ops.nn_ops) is deprecated and will be removed in a future version.\n",
      "Instructions for updating:\n",
      "\n",
      "Future major versions of TensorFlow will allow gradients to flow\n",
      "into the labels input on backprop by default.\n",
      "\n",
      "See tf.nn.softmax_cross_entropy_with_logits_v2.\n",
      "\n",
      "iter\t0\tloss\t11.177574\ttrain_accuracy\t0.109375\ttest_accuracy\t0.125000\n"
     ]
    }
   ],
   "source": [
    "model = ConvModel(0.001, 64, 30000)   # 学习率为0.001，每批传入64张图，训练30000次\n",
    "model.train()      # 训练模型"
   ]
  },
  {
   "cell_type": "code",
   "execution_count": null,
   "metadata": {},
   "outputs": [],
   "source": [
    "model.test()"
   ]
  }
 ],
 "metadata": {
  "kernelspec": {
   "display_name": "Python 3",
   "language": "python",
   "name": "python3"
  },
  "language_info": {
   "codemirror_mode": {
    "name": "ipython",
    "version": 3
   },
   "file_extension": ".py",
   "mimetype": "text/x-python",
   "name": "python",
   "nbconvert_exporter": "python",
   "pygments_lexer": "ipython3",
   "version": "3.4.3"
  }
 },
 "nbformat": 4,
 "nbformat_minor": 2
}
