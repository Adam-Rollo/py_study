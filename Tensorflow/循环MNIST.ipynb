{
 "cells": [
  {
   "cell_type": "code",
   "execution_count": 2,
   "metadata": {},
   "outputs": [
    {
     "name": "stdout",
     "output_type": "stream",
     "text": [
      "Extracting ./MNIST_DATA/train-images-idx3-ubyte.gz\n",
      "Extracting ./MNIST_DATA/train-labels-idx1-ubyte.gz\n",
      "Extracting ./MNIST_DATA/t10k-images-idx3-ubyte.gz\n",
      "Extracting ./MNIST_DATA/t10k-labels-idx1-ubyte.gz\n"
     ]
    }
   ],
   "source": [
    "import numpy as np\n",
    "import matplotlib.pyplot as plt\n",
    "import tensorflow as tf\n",
    "\n",
    "from tensorflow.examples.tutorials.mnist import input_data\n",
    "mnist = input_data.read_data_sets(\"./MNIST_DATA\", one_hot=True)\n",
    "\n",
    "%matplotlib inline"
   ]
  },
  {
   "cell_type": "code",
   "execution_count": 3,
   "metadata": {},
   "outputs": [
    {
     "name": "stdout",
     "output_type": "stream",
     "text": [
      "Train Images:  (55000, 784)\n",
      "Train Labels   (55000, 10)\n",
      "Test Images:   (10000, 784)\n",
      "Test Labels:   (10000, 10)\n"
     ]
    }
   ],
   "source": [
    "trainimgs = mnist.train.images\n",
    "trainlabels = mnist.train.labels\n",
    "testimgs = mnist.test.images\n",
    "testlabels = mnist.test.labels \n",
    "\n",
    "ntrain = trainimgs.shape[0]\n",
    "ntest = testimgs.shape[0]\n",
    "dim = trainimgs.shape[1]\n",
    "nclasses = trainlabels.shape[1]\n",
    "print( \"Train Images: \", trainimgs.shape)\n",
    "print( \"Train Labels  \", trainlabels.shape)\n",
    "print( \"Test Images:  \" , testimgs.shape)\n",
    "print( \"Test Labels:  \", testlabels.shape)"
   ]
  },
  {
   "cell_type": "code",
   "execution_count": 5,
   "metadata": {},
   "outputs": [
    {
     "data": {
      "image/png": "[encoded data removed]",
      "text/plain": [
       "<Figure size 432x288 with 2 Axes>"
      ]
     },
     "metadata": {},
     "output_type": "display_data"
    },
    {
     "name": "stdout",
     "output_type": "stream",
     "text": [
      "Sample: 100 - Class: [6] - Label Vector: [0. 0. 0. 0. 0. 0. 1. 0. 0. 0.] \n",
      "Sample: 101 - Class: [0] - Label Vector: [1. 0. 0. 0. 0. 0. 0. 0. 0. 0.] \n",
      "Sample: 102 - Class: [5] - Label Vector: [0. 0. 0. 0. 0. 1. 0. 0. 0. 0.] \n"
     ]
    }
   ],
   "source": [
    "samplesIdx = [100, 101, 102]  #<-- Y您可以在这里更改这些数字以查看其他样本\n",
    "\n",
    "from mpl_toolkits.mplot3d import Axes3D\n",
    "fig = plt.figure()\n",
    "\n",
    "ax1 = fig.add_subplot(121)\n",
    "ax1.imshow(testimgs[samplesIdx[0]].reshape([28,28]), cmap='gray')\n",
    "\n",
    "xx, yy = np.meshgrid(np.linspace(0,28,28), np.linspace(0,28,28))\n",
    "X =  xx ; Y =  yy\n",
    "Z =  100*np.ones(X.shape)\n",
    "\n",
    "img = testimgs[77].reshape([28,28])\n",
    "ax = fig.add_subplot(122, projection='3d')\n",
    "ax.set_zlim((0,200))\n",
    "\n",
    "\n",
    "offset=200\n",
    "for i in samplesIdx:\n",
    "    img = testimgs[i].reshape([28,28]).transpose()\n",
    "    ax.contourf(X, Y, img, 200, zdir='z', offset=offset, cmap=\"gray\")\n",
    "    offset -= 100\n",
    "\n",
    "ax.set_xticks([])\n",
    "ax.set_yticks([])\n",
    "ax.set_zticks([])\n",
    "\n",
    "plt.show()\n",
    "\n",
    "for i in samplesIdx:\n",
    "    print( \"Sample: {0} - Class: {1} - Label Vector: {2} \"\n",
    "          .format(i, np.nonzero(testlabels[i])[0], testlabels[i]))"
   ]
  },
  {
   "cell_type": "code",
   "execution_count": 6,
   "metadata": {},
   "outputs": [],
   "source": [
    "# 一个可以将 28∗28 维的输入转化为 128 维隐藏层的输入层\n",
    "# 一个中间循环神经网络（LSTM） 一个可以将 128 维的LSTM输出转化为 10 维代表类标签输出的输出层\n",
    "n_input = 28 # 输出MNIST数据 (img shape: 28*28)\n",
    "n_steps = 28 # 时间步长\n",
    "n_hidden = 128 # 隐藏层的特征\n",
    "n_classes = 10 # MNIST全部的类(0-9 digits)\n",
    "\n",
    "learning_rate = 0.001\n",
    "training_iters = 10000\n",
    "batch_size = 100\n",
    "display_step = 1000"
   ]
  },
  {
   "cell_type": "code",
   "execution_count": 7,
   "metadata": {},
   "outputs": [],
   "source": [
    "# 当前数据输入形状: (batch_size, n_steps, n_input) [100x28x28]\n",
    "# batch_size就是每个batch有多少条数据，n_steps就是循环神经网络要记忆多少步，n_input是embedding的大小\n",
    "x = tf.placeholder(dtype=\"float\", shape=[None, n_steps, n_input], name=\"x\")\n",
    "y = tf.placeholder(dtype=\"float\", shape=[None, n_classes], name=\"y\")\n",
    "\n",
    "weights = {\n",
    "    'out': tf.Variable(tf.random_normal([n_hidden, n_classes]))\n",
    "}\n",
    "biases = {\n",
    "    'out': tf.Variable(tf.random_normal([n_classes]))\n",
    "}"
   ]
  },
  {
   "cell_type": "code",
   "execution_count": 8,
   "metadata": {},
   "outputs": [],
   "source": [
    "# 这个LSTM有128个节点，虽然只有一层，但是这128个节点有一个内循环\n",
    "lstm_cell = tf.contrib.rnn.BasicLSTMCell(n_hidden, forget_bias=1.0)"
   ]
  },
  {
   "cell_type": "code",
   "execution_count": 9,
   "metadata": {},
   "outputs": [],
   "source": [
    "#  输入x（28×28），输出128个节点的h（out），以及对应的隐状态（state ）\n",
    "outputs, states = tf.nn.dynamic_rnn(lstm_cell, inputs=x, dtype=tf.float32)"
   ]
  },
  {
   "cell_type": "code",
   "execution_count": 10,
   "metadata": {},
   "outputs": [],
   "source": [
    "output = tf.reshape(tf.split(outputs, 28, axis=1, num=None, name='split')[-1],[-1,128])\n",
    "pred = tf.matmul(output, weights['out']) + biases['out']"
   ]
  },
  {
   "cell_type": "code",
   "execution_count": 12,
   "metadata": {},
   "outputs": [],
   "source": [
    "cost = tf.reduce_mean(tf.nn.softmax_cross_entropy_with_logits_v2(labels=y, logits=pred ))\n",
    "optimizer = tf.train.AdamOptimizer(learning_rate=learning_rate).minimize(cost)\n",
    "correct_pred = tf.equal(tf.argmax(pred,1), tf.argmax(y,1))\n",
    "accuracy = tf.reduce_mean(tf.cast(correct_pred, tf.float32))"
   ]
  },
  {
   "cell_type": "code",
   "execution_count": 14,
   "metadata": {},
   "outputs": [
    {
     "name": "stdout",
     "output_type": "stream",
     "text": [
      "Iter 10000, Minibatch Loss= 0.457479, Training Accuracy= 0.86000\n",
      "Iter 20000, Minibatch Loss= 0.344754, Training Accuracy= 0.86000\n",
      "Iter 30000, Minibatch Loss= 0.132071, Training Accuracy= 0.97000\n",
      "Iter 40000, Minibatch Loss= 0.174254, Training Accuracy= 0.94000\n",
      "Iter 50000, Minibatch Loss= 0.176646, Training Accuracy= 0.93000\n",
      "Iter 60000, Minibatch Loss= 0.217799, Training Accuracy= 0.93000\n",
      "Iter 70000, Minibatch Loss= 0.223055, Training Accuracy= 0.94000\n",
      "Iter 80000, Minibatch Loss= 0.099500, Training Accuracy= 0.96000\n",
      "Iter 90000, Minibatch Loss= 0.046564, Training Accuracy= 0.99000\n",
      "Optimization Finished!\n",
      "Testing Accuracy: 0.9921875\n"
     ]
    }
   ],
   "source": [
    "init = tf.global_variables_initializer()\n",
    "\n",
    "with tf.Session() as sess:\n",
    "    sess.run(init)\n",
    "    step = 1\n",
    "    # 保持循环，直到最大次数迭代\n",
    "    while step * batch_size < training_iters:\n",
    "\n",
    "        # 我们将以batch_x的形式读取一批100张[100 x 784]图像\n",
    "        # batch_y  是一个[100x10]的矩阵\n",
    "        batch_x, batch_y = mnist.train.next_batch(batch_size)\n",
    "        \n",
    "        # 我们将图像的每一行视为一个序列\n",
    "        # 重塑数据以获得28个元素的28个序列，因此，batxh_x是[100x28x28]\n",
    "        batch_x = batch_x.reshape((batch_size, n_steps, n_input))\n",
    "    \n",
    "\n",
    "        # 运行优化操作\n",
    "        sess.run(optimizer, feed_dict={x: batch_x, y: batch_y})\n",
    "        \n",
    "        \n",
    "        if step * batch_size % display_step == 0:\n",
    "            # 计算批次精度\n",
    "            acc = sess.run(accuracy, feed_dict={x: batch_x, y: batch_y})\n",
    "            # 计算批量损失\n",
    "            loss = sess.run(cost, feed_dict={x: batch_x, y: batch_y})\n",
    "            print(\"Iter \" + str(step*batch_size) + \", Minibatch Loss= \" + \\\n",
    "                  \"{:.6f}\".format(loss) + \", Training Accuracy= \" + \\\n",
    "                  \"{:.5f}\".format(acc))\n",
    "        step += 1\n",
    "    print(\"Optimization Finished!\")\n",
    "\n",
    "    # 计算128个mnist测试图像的准确性\n",
    "    test_len = 128\n",
    "    test_data = mnist.test.images[:test_len].reshape((-1, n_steps, n_input))\n",
    "    test_label = mnist.test.labels[:test_len]\n",
    "    print(\"Testing Accuracy:\", \\\n",
    "        sess.run(accuracy, feed_dict={x: test_data, y: test_label}))\n",
    "sess.close()"
   ]
  },
  {
   "cell_type": "code",
   "execution_count": 15,
   "metadata": {},
   "outputs": [
    {
     "name": "stdout",
     "output_type": "stream",
     "text": [
      "Help on function dynamic_rnn in module tensorflow.python.ops.rnn:\n",
      "\n",
      "dynamic_rnn(cell, inputs, sequence_length=None, initial_state=None, dtype=None, parallel_iterations=None, swap_memory=False, time_major=False, scope=None)\n",
      "    Creates a recurrent neural network specified by RNNCell `cell`.\n",
      "    \n",
      "    Performs fully dynamic unrolling of `inputs`.\n",
      "    \n",
      "    Example:\n",
      "    \n",
      "    ```python\n",
      "    # create a BasicRNNCell\n",
      "    rnn_cell = tf.nn.rnn_cell.BasicRNNCell(hidden_size)\n",
      "    \n",
      "    # 'outputs' is a tensor of shape [batch_size, max_time, cell_state_size]\n",
      "    \n",
      "    # defining initial state\n",
      "    initial_state = rnn_cell.zero_state(batch_size, dtype=tf.float32)\n",
      "    \n",
      "    # 'state' is a tensor of shape [batch_size, cell_state_size]\n",
      "    outputs, state = tf.nn.dynamic_rnn(rnn_cell, input_data,\n",
      "                                       initial_state=initial_state,\n",
      "                                       dtype=tf.float32)\n",
      "    ```\n",
      "    \n",
      "    ```python\n",
      "    # create 2 LSTMCells\n",
      "    rnn_layers = [tf.nn.rnn_cell.LSTMCell(size) for size in [128, 256]]\n",
      "    \n",
      "    # create a RNN cell composed sequentially of a number of RNNCells\n",
      "    multi_rnn_cell = tf.nn.rnn_cell.MultiRNNCell(rnn_layers)\n",
      "    \n",
      "    # 'outputs' is a tensor of shape [batch_size, max_time, 256]\n",
      "    # 'state' is a N-tuple where N is the number of LSTMCells containing a\n",
      "    # tf.contrib.rnn.LSTMStateTuple for each cell\n",
      "    outputs, state = tf.nn.dynamic_rnn(cell=multi_rnn_cell,\n",
      "                                       inputs=data,\n",
      "                                       dtype=tf.float32)\n",
      "    ```\n",
      "    \n",
      "    \n",
      "    Args:\n",
      "      cell: An instance of RNNCell.\n",
      "      inputs: The RNN inputs.\n",
      "        If `time_major == False` (default), this must be a `Tensor` of shape:\n",
      "          `[batch_size, max_time, ...]`, or a nested tuple of such\n",
      "          elements.\n",
      "        If `time_major == True`, this must be a `Tensor` of shape:\n",
      "          `[max_time, batch_size, ...]`, or a nested tuple of such\n",
      "          elements.\n",
      "        This may also be a (possibly nested) tuple of Tensors satisfying\n",
      "        this property.  The first two dimensions must match across all the inputs,\n",
      "        but otherwise the ranks and other shape components may differ.\n",
      "        In this case, input to `cell` at each time-step will replicate the\n",
      "        structure of these tuples, except for the time dimension (from which the\n",
      "        time is taken).\n",
      "        The input to `cell` at each time step will be a `Tensor` or (possibly\n",
      "        nested) tuple of Tensors each with dimensions `[batch_size, ...]`.\n",
      "      sequence_length: (optional) An int32/int64 vector sized `[batch_size]`.\n",
      "        Used to copy-through state and zero-out outputs when past a batch\n",
      "        element's sequence length.  So it's more for correctness than performance.\n",
      "      initial_state: (optional) An initial state for the RNN.\n",
      "        If `cell.state_size` is an integer, this must be\n",
      "        a `Tensor` of appropriate type and shape `[batch_size, cell.state_size]`.\n",
      "        If `cell.state_size` is a tuple, this should be a tuple of\n",
      "        tensors having shapes `[batch_size, s] for s in cell.state_size`.\n",
      "      dtype: (optional) The data type for the initial state and expected output.\n",
      "        Required if initial_state is not provided or RNN state has a heterogeneous\n",
      "        dtype.\n",
      "      parallel_iterations: (Default: 32).  The number of iterations to run in\n",
      "        parallel.  Those operations which do not have any temporal dependency\n",
      "        and can be run in parallel, will be.  This parameter trades off\n",
      "        time for space.  Values >> 1 use more memory but take less time,\n",
      "        while smaller values use less memory but computations take longer.\n",
      "      swap_memory: Transparently swap the tensors produced in forward inference\n",
      "        but needed for back prop from GPU to CPU.  This allows training RNNs\n",
      "        which would typically not fit on a single GPU, with very minimal (or no)\n",
      "        performance penalty.\n",
      "      time_major: The shape format of the `inputs` and `outputs` Tensors.\n",
      "        If true, these `Tensors` must be shaped `[max_time, batch_size, depth]`.\n",
      "        If false, these `Tensors` must be shaped `[batch_size, max_time, depth]`.\n",
      "        Using `time_major = True` is a bit more efficient because it avoids\n",
      "        transposes at the beginning and end of the RNN calculation.  However,\n",
      "        most TensorFlow data is batch-major, so by default this function\n",
      "        accepts input and emits output in batch-major form.\n",
      "      scope: VariableScope for the created subgraph; defaults to \"rnn\".\n",
      "    \n",
      "    Returns:\n",
      "      A pair (outputs, state) where:\n",
      "    \n",
      "      outputs: The RNN output `Tensor`.\n",
      "    \n",
      "        If time_major == False (default), this will be a `Tensor` shaped:\n",
      "          `[batch_size, max_time, cell.output_size]`.\n",
      "    \n",
      "        If time_major == True, this will be a `Tensor` shaped:\n",
      "          `[max_time, batch_size, cell.output_size]`.\n",
      "    \n",
      "        Note, if `cell.output_size` is a (possibly nested) tuple of integers\n",
      "        or `TensorShape` objects, then `outputs` will be a tuple having the\n",
      "        same structure as `cell.output_size`, containing Tensors having shapes\n",
      "        corresponding to the shape data in `cell.output_size`.\n",
      "    \n",
      "      state: The final state.  If `cell.state_size` is an int, this\n",
      "        will be shaped `[batch_size, cell.state_size]`.  If it is a\n",
      "        `TensorShape`, this will be shaped `[batch_size] + cell.state_size`.\n",
      "        If it is a (possibly nested) tuple of ints or `TensorShape`, this will\n",
      "        be a tuple having the corresponding shapes. If cells are `LSTMCells`\n",
      "        `state` will be a tuple containing a `LSTMStateTuple` for each cell.\n",
      "    \n",
      "    Raises:\n",
      "      TypeError: If `cell` is not an instance of RNNCell.\n",
      "      ValueError: If inputs is None or an empty list.\n",
      "\n"
     ]
    }
   ],
   "source": [
    "help(tf.nn.dynamic_rnn)"
   ]
  },
  {
   "cell_type": "code",
   "execution_count": 16,
   "metadata": {},
   "outputs": [
    {
     "name": "stdout",
     "output_type": "stream",
     "text": [
      "Help on function split in module tensorflow.python.ops.array_ops:\n",
      "\n",
      "split(value, num_or_size_splits, axis=0, num=None, name='split')\n",
      "    Splits a tensor into sub tensors.\n",
      "    \n",
      "    If `num_or_size_splits` is an integer type, `num_split`, then splits `value`\n",
      "    along dimension `axis` into `num_split` smaller tensors.\n",
      "    Requires that `num_split` evenly divides `value.shape[axis]`.\n",
      "    \n",
      "    If `num_or_size_splits` is not an integer type, it is presumed to be a Tensor\n",
      "    `size_splits`, then splits `value` into `len(size_splits)` pieces. The shape\n",
      "    of the `i`-th piece has the same size as the `value` except along dimension\n",
      "    `axis` where the size is `size_splits[i]`.\n",
      "    \n",
      "    For example:\n",
      "    \n",
      "    ```python\n",
      "    # 'value' is a tensor with shape [5, 30]\n",
      "    # Split 'value' into 3 tensors with sizes [4, 15, 11] along dimension 1\n",
      "    split0, split1, split2 = tf.split(value, [4, 15, 11], 1)\n",
      "    tf.shape(split0)  # [5, 4]\n",
      "    tf.shape(split1)  # [5, 15]\n",
      "    tf.shape(split2)  # [5, 11]\n",
      "    # Split 'value' into 3 tensors along dimension 1\n",
      "    split0, split1, split2 = tf.split(value, num_or_size_splits=3, axis=1)\n",
      "    tf.shape(split0)  # [5, 10]\n",
      "    ```\n",
      "    \n",
      "    Args:\n",
      "      value: The `Tensor` to split.\n",
      "      num_or_size_splits: Either a 0-D integer `Tensor` indicating the number of\n",
      "        splits along split_dim or a 1-D integer `Tensor` containing\n",
      "        the sizes of each output tensor along split_dim. If a scalar then it must\n",
      "        evenly divide `value.shape[axis]`; otherwise the sum of sizes along the\n",
      "        split dimension must match that of the `value`.\n",
      "      axis: A 0-D `int32` `Tensor`. The dimension along which to split.\n",
      "        Must be in the range `[-rank(value), rank(value))`. Defaults to 0.\n",
      "      num: Optional, used to specify the number of outputs when it cannot be\n",
      "        inferred from the shape of `size_splits`.\n",
      "      name: A name for the operation (optional).\n",
      "    \n",
      "    Returns:\n",
      "      if `num_or_size_splits` is a scalar returns `num_or_size_splits` `Tensor`\n",
      "      objects; if `num_or_size_splits` is a 1-D Tensor returns\n",
      "      `num_or_size_splits.get_shape[0]` `Tensor` objects resulting from splitting\n",
      "      `value`.\n",
      "    \n",
      "    Raises:\n",
      "      ValueError: If `num` is unspecified and cannot be inferred.\n",
      "\n"
     ]
    }
   ],
   "source": [
    "help(tf.split)"
   ]
  },
  {
   "cell_type": "code",
   "execution_count": null,
   "metadata": {},
   "outputs": [],
   "source": []
  }
 ],
 "metadata": {
  "kernelspec": {
   "display_name": "Python 3",
   "language": "python",
   "name": "python3"
  },
  "language_info": {
   "codemirror_mode": {
    "name": "ipython",
    "version": 3
   },
   "file_extension": ".py",
   "mimetype": "text/x-python",
   "name": "python",
   "nbconvert_exporter": "python",
   "pygments_lexer": "ipython3",
   "version": "3.4.3"
  }
 },
 "nbformat": 4,
 "nbformat_minor": 2
}
