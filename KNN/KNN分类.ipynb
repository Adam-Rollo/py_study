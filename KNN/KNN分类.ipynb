{
 "cells": [
  {
   "cell_type": "code",
   "execution_count": 4,
   "metadata": {},
   "outputs": [],
   "source": [
    "import numpy as np\n",
    "import pandas as pd"
   ]
  },
  {
   "cell_type": "code",
   "execution_count": 5,
   "metadata": {},
   "outputs": [],
   "source": [
    "# 读取鸢尾花数据集，header是标题行\n",
    "data = pd.read_csv(r\"Iris.csv\", header=0);"
   ]
  },
  {
   "cell_type": "code",
   "execution_count": 6,
   "metadata": {},
   "outputs": [
    {
     "data": {
      "text/html": [
       "<div>\n",
       "<style scoped>\n",
       "    .dataframe tbody tr th:only-of-type {\n",
       "        vertical-align: middle;\n",
       "    }\n",
       "\n",
       "    .dataframe tbody tr th {\n",
       "        vertical-align: top;\n",
       "    }\n",
       "\n",
       "    .dataframe thead th {\n",
       "        text-align: right;\n",
       "    }\n",
       "</style>\n",
       "<table border=\"1\" class=\"dataframe\">\n",
       "  <thead>\n",
       "    <tr style=\"text-align: right;\">\n",
       "      <th></th>\n",
       "      <th>Id</th>\n",
       "      <th>SepalLengthCm</th>\n",
       "      <th>SepalWidthCm</th>\n",
       "      <th>PetalLengthCm</th>\n",
       "      <th>PetalWidthCm</th>\n",
       "      <th>Species</th>\n",
       "    </tr>\n",
       "  </thead>\n",
       "  <tbody>\n",
       "    <tr>\n",
       "      <th>94</th>\n",
       "      <td>95</td>\n",
       "      <td>5.6</td>\n",
       "      <td>2.7</td>\n",
       "      <td>4.2</td>\n",
       "      <td>1.3</td>\n",
       "      <td>2</td>\n",
       "    </tr>\n",
       "    <tr>\n",
       "      <th>17</th>\n",
       "      <td>18</td>\n",
       "      <td>5.1</td>\n",
       "      <td>3.5</td>\n",
       "      <td>1.4</td>\n",
       "      <td>0.3</td>\n",
       "      <td>1</td>\n",
       "    </tr>\n",
       "    <tr>\n",
       "      <th>48</th>\n",
       "      <td>49</td>\n",
       "      <td>5.3</td>\n",
       "      <td>3.7</td>\n",
       "      <td>1.5</td>\n",
       "      <td>0.2</td>\n",
       "      <td>1</td>\n",
       "    </tr>\n",
       "    <tr>\n",
       "      <th>52</th>\n",
       "      <td>53</td>\n",
       "      <td>6.9</td>\n",
       "      <td>3.1</td>\n",
       "      <td>4.9</td>\n",
       "      <td>1.5</td>\n",
       "      <td>2</td>\n",
       "    </tr>\n",
       "    <tr>\n",
       "      <th>89</th>\n",
       "      <td>90</td>\n",
       "      <td>5.5</td>\n",
       "      <td>2.5</td>\n",
       "      <td>4.0</td>\n",
       "      <td>1.3</td>\n",
       "      <td>2</td>\n",
       "    </tr>\n",
       "    <tr>\n",
       "      <th>82</th>\n",
       "      <td>83</td>\n",
       "      <td>5.8</td>\n",
       "      <td>2.7</td>\n",
       "      <td>3.9</td>\n",
       "      <td>1.2</td>\n",
       "      <td>2</td>\n",
       "    </tr>\n",
       "    <tr>\n",
       "      <th>14</th>\n",
       "      <td>15</td>\n",
       "      <td>5.8</td>\n",
       "      <td>4.0</td>\n",
       "      <td>1.2</td>\n",
       "      <td>0.2</td>\n",
       "      <td>1</td>\n",
       "    </tr>\n",
       "    <tr>\n",
       "      <th>117</th>\n",
       "      <td>118</td>\n",
       "      <td>7.7</td>\n",
       "      <td>3.8</td>\n",
       "      <td>6.7</td>\n",
       "      <td>2.2</td>\n",
       "      <td>0</td>\n",
       "    </tr>\n",
       "    <tr>\n",
       "      <th>60</th>\n",
       "      <td>61</td>\n",
       "      <td>5.0</td>\n",
       "      <td>2.0</td>\n",
       "      <td>3.5</td>\n",
       "      <td>1.0</td>\n",
       "      <td>2</td>\n",
       "    </tr>\n",
       "    <tr>\n",
       "      <th>54</th>\n",
       "      <td>55</td>\n",
       "      <td>6.5</td>\n",
       "      <td>2.8</td>\n",
       "      <td>4.6</td>\n",
       "      <td>1.5</td>\n",
       "      <td>2</td>\n",
       "    </tr>\n",
       "  </tbody>\n",
       "</table>\n",
       "</div>"
      ],
      "text/plain": [
       "      Id  SepalLengthCm  SepalWidthCm  PetalLengthCm  PetalWidthCm  Species\n",
       "94    95            5.6           2.7            4.2           1.3        2\n",
       "17    18            5.1           3.5            1.4           0.3        1\n",
       "48    49            5.3           3.7            1.5           0.2        1\n",
       "52    53            6.9           3.1            4.9           1.5        2\n",
       "89    90            5.5           2.5            4.0           1.3        2\n",
       "82    83            5.8           2.7            3.9           1.2        2\n",
       "14    15            5.8           4.0            1.2           0.2        1\n",
       "117  118            7.7           3.8            6.7           2.2        0\n",
       "60    61            5.0           2.0            3.5           1.0        2\n",
       "54    55            6.5           2.8            4.6           1.5        2"
      ]
     },
     "execution_count": 6,
     "metadata": {},
     "output_type": "execute_result"
    }
   ],
   "source": [
    "data[\"Species\"] = data[\"Species\"].map({\"Iris-versicolor\": 2, \"Iris-setosa\":1, \"Iris-virginica\":0})\n",
    "data.sample(10)"
   ]
  },
  {
   "cell_type": "code",
   "execution_count": 7,
   "metadata": {},
   "outputs": [],
   "source": [
    "data.drop(\"Id\", axis=1, inplace=True)"
   ]
  },
  {
   "cell_type": "code",
   "execution_count": 8,
   "metadata": {},
   "outputs": [],
   "source": [
    "data.drop_duplicates(inplace=True)"
   ]
  },
  {
   "cell_type": "code",
   "execution_count": 9,
   "metadata": {},
   "outputs": [
    {
     "data": {
      "text/plain": [
       "SepalLengthCm    147\n",
       "SepalWidthCm     147\n",
       "PetalLengthCm    147\n",
       "PetalWidthCm     147\n",
       "Species          147\n",
       "dtype: int64"
      ]
     },
     "execution_count": 9,
     "metadata": {},
     "output_type": "execute_result"
    }
   ],
   "source": [
    "data.count()"
   ]
  },
  {
   "cell_type": "code",
   "execution_count": 10,
   "metadata": {},
   "outputs": [
    {
     "data": {
      "text/plain": [
       "2    50\n",
       "0    49\n",
       "1    48\n",
       "Name: Species, dtype: int64"
      ]
     },
     "execution_count": 10,
     "metadata": {},
     "output_type": "execute_result"
    }
   ],
   "source": [
    "data[\"Species\"].value_counts()"
   ]
  },
  {
   "cell_type": "code",
   "execution_count": 57,
   "metadata": {},
   "outputs": [],
   "source": [
    "class  KNN:\n",
    "    '''使用Python实现K近邻分类'''\n",
    "    \n",
    "    def __init__(self, k):\n",
    "        '''初始化方法\n",
    "        \n",
    "        Parameters\n",
    "        ---\n",
    "        k: int\n",
    "            邻居的个数\n",
    "        '''\n",
    "        \n",
    "        self.k = k\n",
    "        \n",
    "    def fit(self, X, y):\n",
    "        '''训练的方法\n",
    "        \n",
    "        Parameters\n",
    "        ----\n",
    "        X：类数组类型，形状为：[样本数量，特征的数量]\n",
    "            待训练的样本特征\n",
    "            \n",
    "        y：类数组类型形状为：[样本数量]\n",
    "            每个样本的目标值（标签）\n",
    "        '''\n",
    "        \n",
    "        self.X = np.asarray(X)\n",
    "        self.y = np.asarray(y)\n",
    "        \n",
    "    def predict(self, X):\n",
    "        '''根据参数传递的样本，进而对样本数据进行预测\n",
    "        \n",
    "        Parameters:\n",
    "        ----\n",
    "        X：类数组类型，形状为：[样本数量，特征的数量]\n",
    "            待训练的样本特征\n",
    "            \n",
    "        Returns\n",
    "        -----\n",
    "        result: 数组类型\n",
    "            预测的结果\n",
    "        '''\n",
    "        X = np.asarray(X)\n",
    "        result = []\n",
    "        \n",
    "        for x in X:\n",
    "            # 使用欧式距离，向量减矩阵，ndarray支持广播\n",
    "            # dis中得到测试集的每个点和训练点的每一个节点的距离\n",
    "            dis = np.sqrt(np.sum((x - self.X) ** 2, axis = 1))\n",
    "            # 返回排序好的索引\n",
    "            index = dis.argsort()\n",
    "            # 取距离最近的k个索引\n",
    "            index = index[:self.k]\n",
    "            # 返回数组中每个元素出现的次数，元素必须是非负的整数\n",
    "            count = np.bincount(self.y[index])\n",
    "            # 返回nd_array中值最大的数字的索引\n",
    "            result.append(count.argmax())\n",
    "            \n",
    "        return np.asarray(result)\n",
    "    \n",
    "    def weight_predict(self, X):\n",
    "        '''根据参数传递的样本，进而对样本数据进行预测\n",
    "        \n",
    "        Parameters:\n",
    "        ----\n",
    "        X：类数组类型，形状为：[样本数量，特征的数量]\n",
    "            待训练的样本特征\n",
    "            \n",
    "        Returns\n",
    "        -----\n",
    "        result: 数组类型\n",
    "            预测的结果\n",
    "        '''\n",
    "        X = np.asarray(X)\n",
    "        result = []\n",
    "        \n",
    "        for x in X:\n",
    "            # 使用欧式距离，向量减矩阵，ndarray支持广播\n",
    "            # dis中得到测试集的每个点和训练点的每一个节点的距离\n",
    "            dis = np.sqrt(np.sum((x - self.X) ** 2, axis = 1))\n",
    "            # 返回排序好的索引\n",
    "            index = dis.argsort()\n",
    "            # 取距离最近的k个索引\n",
    "            index = index[:self.k]\n",
    "            # 返回数组中每个元素出现的次数，以距离的倒数为权重，元素必须是非负的整数\n",
    "            weight = np.bincount(self.y[index], weights = 1/dis[index])\n",
    "            # 返回nd_array中值最大的数字的索引\n",
    "            result.append(weight.argmax())\n",
    "            \n",
    "        return np.asarray(result)"
   ]
  },
  {
   "cell_type": "code",
   "execution_count": 63,
   "metadata": {},
   "outputs": [
    {
     "data": {
      "text/plain": [
       "121     True\n",
       "119    False\n",
       "109     True\n",
       "139     True\n",
       "146     True\n",
       "103     True\n",
       "100     True\n",
       "148     True\n",
       "145     True\n",
       "21      True\n",
       "19      True\n",
       "9       True\n",
       "41      True\n",
       "47      True\n",
       "3       True\n",
       "0       True\n",
       "46      True\n",
       "86      True\n",
       "71      True\n",
       "69      True\n",
       "59      True\n",
       "89      True\n",
       "96      True\n",
       "53      True\n",
       "50      True\n",
       "97      True\n",
       "94      True\n",
       "Name: Species, dtype: bool"
      ]
     },
     "metadata": {},
     "output_type": "display_data"
    }
   ],
   "source": [
    "# 提取每个类别的鸢尾花的数据\n",
    "t0 = data[data[\"Species\"] == 0]\n",
    "t1 = data[data[\"Species\"] == 1]\n",
    "t2 = data[data[\"Species\"] == 2]\n",
    "# 仅仅打乱了顺序\n",
    "t0 = t0.sample(len(t0), random_state = 0)\n",
    "t1 = t1.sample(len(t1), random_state = 0)\n",
    "t2 = t2.sample(len(t2), random_state = 0)\n",
    "\n",
    "train_X = pd.concat( [t0.iloc[:40, :-1], t1.iloc[:40,:-1], t2.iloc[:40,:-1] ], axis=0)\n",
    "train_y = pd.concat( [t0.iloc[:40, -1], t1.iloc[:40, -1], t2.iloc[:40, -1] ], axis=0)\n",
    "test_X = pd.concat( [t0.iloc[40:, :-1], t1.iloc[40:,:-1], t2.iloc[40:,:-1] ], axis=0)\n",
    "test_y = pd.concat( [t0.iloc[40:, -1], t1.iloc[40:, -1], t2.iloc[40:, -1] ], axis=0)\n",
    "#创建KNN对象\n",
    "knn = KNN(k=3)\n",
    "# 训练\n",
    "knn.fit(train_X, train_y)\n",
    "# 预测\n",
    "# result = knn.predict(test_X)\n",
    "result = knn.weight_predict(test_X)\n",
    "# 结果\n",
    "display(result == test_y)"
   ]
  },
  {
   "cell_type": "code",
   "execution_count": 59,
   "metadata": {},
   "outputs": [],
   "source": [
    "import matplotlib as mpl\n",
    "import matplotlib.pyplot as plt"
   ]
  },
  {
   "cell_type": "code",
   "execution_count": 60,
   "metadata": {},
   "outputs": [
    {
     "name": "stdout",
     "output_type": "stream",
     "text": [
      "**********可用的中文字体**********\n",
      "Droid Sans Fallback\n"
     ]
    }
   ],
   "source": [
    "def dispFonts():\n",
    "    #显示可用的中文字体，同时支持英文的\n",
    "    from matplotlib.font_manager import FontManager\n",
    "    import subprocess\n",
    "\n",
    "    fm = FontManager()\n",
    "    mat_fonts = set(f.name for f in fm.ttflist)\n",
    "\n",
    "    output = subprocess.check_output(\n",
    "        'fc-list :lang=zh -f \"%{family}\\n\"', shell=True)\n",
    "    output = output.decode('utf-8')\n",
    "    # print ‘*‘ * 10, ‘系统可用的中文字体‘, ‘*‘ * 10\n",
    "    # print output\n",
    "    zh_fonts = set(f.split(',', 1)[0] for f in output.split('\\n'))\n",
    "    available = mat_fonts & zh_fonts\n",
    "\n",
    "    print ('*' * 10 +  u'可用的中文字体'+'*' * 10)\n",
    "    for f in available:\n",
    "        print(f)\n",
    "\n",
    "dispFonts()"
   ]
  },
  {
   "cell_type": "code",
   "execution_count": 61,
   "metadata": {},
   "outputs": [],
   "source": [
    "# 设置中文显示\n",
    "mpl.rcParams[\"font.family\"] = \"Droid Sans Fallback\"\n",
    "mpl.rcParams[\"axes.unicode_minus\"] = False"
   ]
  },
  {
   "cell_type": "code",
   "execution_count": 62,
   "metadata": {},
   "outputs": [
    {
     "data": {
      "image/png": "[encoded data removed]",
      "text/plain": [
       "<Figure size 576x576 with 1 Axes>"
      ]
     },
     "metadata": {},
     "output_type": "display_data"
    }
   ],
   "source": [
    "plt.figure(figsize=[8,8])\n",
    "plt.scatter(x=t0[\"SepalLengthCm\"][:40], y=t0[\"PetalLengthCm\"][:40], color='r', label=\"Iris-Virginica\")\n",
    "plt.scatter(x=t1[\"SepalLengthCm\"][:40], y=t1[\"PetalLengthCm\"][:40], color='g', label=\"Iris-setosa\")\n",
    "plt.scatter(x=t2[\"SepalLengthCm\"][:40], y=t2[\"PetalLengthCm\"][:40], color='b', label=\"Iris-versicolor\")\n",
    "#绘制测试集数据\n",
    "right = test_X[result == test_y]\n",
    "wrong = test_X[result != test_y]\n",
    "plt.scatter(x=right[\"SepalLengthCm\"], y=right[\"PetalLengthCm\"], color='y', label=\"Right\", marker=\">\")\n",
    "plt.scatter(x=wrong[\"SepalLengthCm\"], y=wrong[\"PetalLengthCm\"], color='c', label=\"Wrong\", marker=\"x\")\n",
    "plt.xlabel(\"花萼长度\")\n",
    "plt.ylabel(\"花瓣长度\")\n",
    "plt.title(\"KNN散点图\")\n",
    "plt.legend(loc=\"best\")\n",
    "plt.show()"
   ]
  },
  {
   "cell_type": "code",
   "execution_count": null,
   "metadata": {},
   "outputs": [],
   "source": []
  }
 ],
 "metadata": {
  "kernelspec": {
   "display_name": "Python 3",
   "language": "python",
   "name": "python3"
  },
  "language_info": {
   "codemirror_mode": {
    "name": "ipython",
    "version": 3
   },
   "file_extension": ".py",
   "mimetype": "text/x-python",
   "name": "python",
   "nbconvert_exporter": "python",
   "pygments_lexer": "ipython3",
   "version": "3.4.3"
  }
 },
 "nbformat": 4,
 "nbformat_minor": 2
}
