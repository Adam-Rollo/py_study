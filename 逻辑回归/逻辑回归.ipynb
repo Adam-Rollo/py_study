{
 "cells": [
  {
   "cell_type": "code",
   "execution_count": 1,
   "metadata": {},
   "outputs": [],
   "source": [
    "import numpy as np\n",
    "import pandas as pd"
   ]
  },
  {
   "cell_type": "code",
   "execution_count": 2,
   "metadata": {},
   "outputs": [],
   "source": [
    "data = pd.read_csv(r\"Iris.csv\")\n",
    "data.drop(\"Id\", axis=1, inplace=True)\n",
    "data.drop_duplicates(inplace=True)"
   ]
  },
  {
   "cell_type": "code",
   "execution_count": 5,
   "metadata": {},
   "outputs": [
    {
     "data": {
      "text/html": [
       "<div>\n",
       "<style scoped>\n",
       "    .dataframe tbody tr th:only-of-type {\n",
       "        vertical-align: middle;\n",
       "    }\n",
       "\n",
       "    .dataframe tbody tr th {\n",
       "        vertical-align: top;\n",
       "    }\n",
       "\n",
       "    .dataframe thead th {\n",
       "        text-align: right;\n",
       "    }\n",
       "</style>\n",
       "<table border=\"1\" class=\"dataframe\">\n",
       "  <thead>\n",
       "    <tr style=\"text-align: right;\">\n",
       "      <th></th>\n",
       "      <th>SepalLengthCm</th>\n",
       "      <th>SepalWidthCm</th>\n",
       "      <th>PetalLengthCm</th>\n",
       "      <th>PetalWidthCm</th>\n",
       "      <th>Species</th>\n",
       "    </tr>\n",
       "  </thead>\n",
       "  <tbody>\n",
       "    <tr>\n",
       "      <th>0</th>\n",
       "      <td>5.1</td>\n",
       "      <td>3.5</td>\n",
       "      <td>1.4</td>\n",
       "      <td>0.2</td>\n",
       "      <td>1</td>\n",
       "    </tr>\n",
       "    <tr>\n",
       "      <th>1</th>\n",
       "      <td>4.9</td>\n",
       "      <td>3.0</td>\n",
       "      <td>1.4</td>\n",
       "      <td>0.2</td>\n",
       "      <td>1</td>\n",
       "    </tr>\n",
       "    <tr>\n",
       "      <th>2</th>\n",
       "      <td>4.7</td>\n",
       "      <td>3.2</td>\n",
       "      <td>1.3</td>\n",
       "      <td>0.2</td>\n",
       "      <td>1</td>\n",
       "    </tr>\n",
       "    <tr>\n",
       "      <th>3</th>\n",
       "      <td>4.6</td>\n",
       "      <td>3.1</td>\n",
       "      <td>1.5</td>\n",
       "      <td>0.2</td>\n",
       "      <td>1</td>\n",
       "    </tr>\n",
       "    <tr>\n",
       "      <th>4</th>\n",
       "      <td>5.0</td>\n",
       "      <td>3.6</td>\n",
       "      <td>1.4</td>\n",
       "      <td>0.2</td>\n",
       "      <td>1</td>\n",
       "    </tr>\n",
       "  </tbody>\n",
       "</table>\n",
       "</div>"
      ],
      "text/plain": [
       "   SepalLengthCm  SepalWidthCm  PetalLengthCm  PetalWidthCm  Species\n",
       "0            5.1           3.5            1.4           0.2        1\n",
       "1            4.9           3.0            1.4           0.2        1\n",
       "2            4.7           3.2            1.3           0.2        1\n",
       "3            4.6           3.1            1.5           0.2        1\n",
       "4            5.0           3.6            1.4           0.2        1"
      ]
     },
     "execution_count": 5,
     "metadata": {},
     "output_type": "execute_result"
    }
   ],
   "source": [
    "data[\"Species\"] = data[\"Species\"].map({\"Iris-versicolor\":0, \"Iris-setosa\":1, \"Iris-virginica\":2})\n",
    "data = data[data[\"Species\"] < 2]\n",
    "data.head()"
   ]
  },
  {
   "cell_type": "code",
   "execution_count": 13,
   "metadata": {},
   "outputs": [],
   "source": [
    "class LogisticRegression:\n",
    "    '''逻辑回归'''\n",
    "    \n",
    "    def __init__(self, alpha, times):\n",
    "        '''初始化\n",
    "        \n",
    "        Parameters\n",
    "        ----\n",
    "        alpha: float\n",
    "        times:int'''\n",
    "        \n",
    "        self.alpha = alpha\n",
    "        self.times = times\n",
    "        \n",
    "    def sigmoid(self, z):\n",
    "        '''sigmoid实现\n",
    "        \n",
    "        Parameters\n",
    "        -----\n",
    "        z:float z = w.T * X\n",
    "        '''\n",
    "        return 1.0 / (1.0 + np.exp(-z))\n",
    "        \n",
    "    def fit(self, X, y):\n",
    "        '''训练Ｘ\n",
    "        \n",
    "        Parameters\n",
    "        ---\n",
    "        X:[样本数量，样本特征]\n",
    "        \n",
    "        y:[样本数量]\n",
    "        '''\n",
    "        X = np.asarray(X)\n",
    "        y = np.asarray(y)\n",
    "        \n",
    "        # 创建初始权重，全部设置0，多一个截距权重\n",
    "        self.w_ = np.zeros(1 + X.shape[1])\n",
    "        \n",
    "        # 创建loss列表  （预测值 - 真实值）的平方和除以二\n",
    "        self.loss_ = []\n",
    "        \n",
    "        # 进行循环\n",
    "        for i in range(self.times):\n",
    "            # 计算预测值\n",
    "            z = np.dot(X, self.w_[1:]) + self.w_[0]\n",
    "            p = self.sigmoid(z)\n",
    "            # 计算预测值和真实值的差距\n",
    "            # 逻辑回归的目标函数 J(w) = -sum(yi * log(s(zi))+ (1-yi) * log(1-s(zi)) ) \n",
    "            cost = -np.sum( y * np.log(p) + (1-y) * np.log(1-p) )\n",
    "            # 将损失值加入到损失列表当中\n",
    "            self.loss_.append(  cost  )\n",
    "            # 调整w向梯度相反的方向: 权重(j) = 权重(j) + 学习率 * sum((y - y_hat) * x(j))\n",
    "            # loss（所有数据集的error总和）对每一个w求导，即是w应该变化的方向\n",
    "            # y_hat对w求导的时候，得到的是负的x(j)，由于权重 = 权重 - 权重变化率，所以负负得正，变成加号\n",
    "            self.w_[0] += self.alpha * np.sum(y - p)\n",
    "            self.w_[1:] += self.alpha * np.dot(X.T, y - p)\n",
    "            \n",
    "    def predict_proba(self, X):\n",
    "            '''预测！\n",
    "            \n",
    "            Parameters\n",
    "            -----\n",
    "            X:类数组 [样本数量，特征数量]\n",
    "            \n",
    "            Returns\n",
    "            ----\n",
    "            resulet:数组,结果，概率值\n",
    "            '''\n",
    "            X = np.asarray(X)\n",
    "            z = np.dot(X, self.w_[1:]) + self.w_[0]\n",
    "            p = self.sigmoid(z)\n",
    "            # 转成二维，方便拼接\n",
    "            p = p.reshape(-1, 1)\n",
    "            return np.concatenate([1-p, p], axis=1)\n",
    "        \n",
    "    def predict(self, X):\n",
    "            '''预测！\n",
    "            \n",
    "            Parameters\n",
    "            -----\n",
    "            X:类数组 [样本数量，特征数量]\n",
    "            \n",
    "            Returns\n",
    "            ----\n",
    "            resulet:数组,结果，概率值\n",
    "            '''\n",
    "            \n",
    "            return np.argmax(self.predict_proba(X), axis=1)"
   ]
  },
  {
   "cell_type": "code",
   "execution_count": 15,
   "metadata": {},
   "outputs": [
    {
     "data": {
      "text/plain": [
       "86    True\n",
       "71    True\n",
       "69    True\n",
       "59    True\n",
       "89    True\n",
       "96    True\n",
       "53    True\n",
       "50    True\n",
       "97    True\n",
       "94    True\n",
       "21    True\n",
       "19    True\n",
       "9     True\n",
       "41    True\n",
       "47    True\n",
       "3     True\n",
       "0     True\n",
       "46    True\n",
       "Name: Species, dtype: bool"
      ]
     },
     "metadata": {},
     "output_type": "display_data"
    }
   ],
   "source": [
    "t1 = data[data[\"Species\"] == 0]\n",
    "t2 = data[data[\"Species\"] == 1]\n",
    "t1 = t1.sample(len(t1), random_state = 0)\n",
    "t2 = t2.sample(len(t2), random_state = 0)\n",
    "\n",
    "train_X = pd.concat([t1.iloc[:40, :-1], t2.iloc[:40, :-1]], axis=0)\n",
    "train_y = pd.concat([t1.iloc[:40, -1], t2.iloc[:40, -1]], axis=0)\n",
    "test_X = pd.concat([t1.iloc[40:, :-1], t2.iloc[40:, :-1]], axis=0)\n",
    "test_y = pd.concat([t1.iloc[40:, -1], t2.iloc[40:, -1]], axis=0)\n",
    "\n",
    "# 数值都是一个数量级，所以不需要正规化\n",
    "lr = LogisticRegression(alpha=0.01, times=20)\n",
    "lr.fit(train_X, train_y)\n",
    "\n",
    "result = lr.predict(test_X)\n",
    "display(result == test_y)"
   ]
  },
  {
   "cell_type": "code",
   "execution_count": 16,
   "metadata": {},
   "outputs": [],
   "source": [
    "import matplotlib as mpl\n",
    "import matplotlib.pyplot as plt\n",
    "# 设置中文显示\n",
    "mpl.rcParams[\"font.family\"] = \"Droid Sans Fallback\"\n",
    "mpl.rcParams[\"axes.unicode_minus\"] = False"
   ]
  },
  {
   "cell_type": "code",
   "execution_count": 17,
   "metadata": {},
   "outputs": [
    {
     "data": {
      "image/png": "[encoded data removed]",
      "text/plain": [
       "<Figure size 576x576 with 1 Axes>"
      ]
     },
     "metadata": {},
     "output_type": "display_data"
    }
   ],
   "source": [
    "plt.figure(figsize=[8,8])\n",
    "#绘制预测值\n",
    "plt.plot(result, \"ro-\", label=\"预测值\")\n",
    "plt.plot(test_y.values, \"go--\", label=\"真实值\")\n",
    "plt.title(\"最小二乘回归\")\n",
    "plt.xlabel(\"样本序号\")\n",
    "plt.ylabel(\"房价\")\n",
    "plt.legend()\n",
    "plt.show()"
   ]
  },
  {
   "cell_type": "code",
   "execution_count": 18,
   "metadata": {},
   "outputs": [
    {
     "data": {
      "text/plain": [
       "[<matplotlib.lines.Line2D at 0x7fe61dd13208>]"
      ]
     },
     "execution_count": 18,
     "metadata": {},
     "output_type": "execute_result"
    },
    {
     "data": {
      "image/png": "[encoded data removed]",
      "text/plain": [
       "<Figure size 432x288 with 1 Axes>"
      ]
     },
     "metadata": {},
     "output_type": "display_data"
    }
   ],
   "source": [
    "plt.plot(range(1, lr.times +1), lr.loss_, \"go-\")"
   ]
  },
  {
   "cell_type": "code",
   "execution_count": null,
   "metadata": {},
   "outputs": [],
   "source": []
  }
 ],
 "metadata": {
  "kernelspec": {
   "display_name": "Python 3",
   "language": "python",
   "name": "python3"
  },
  "language_info": {
   "codemirror_mode": {
    "name": "ipython",
    "version": 3
   },
   "file_extension": ".py",
   "mimetype": "text/x-python",
   "name": "python",
   "nbconvert_exporter": "python",
   "pygments_lexer": "ipython3",
   "version": "3.4.3"
  }
 },
 "nbformat": 4,
 "nbformat_minor": 2
}
