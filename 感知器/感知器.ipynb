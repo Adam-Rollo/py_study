{
 "cells": [
  {
   "cell_type": "code",
   "execution_count": 1,
   "metadata": {},
   "outputs": [],
   "source": [
    "import numpy as np\n",
    "import pandas as pd"
   ]
  },
  {
   "cell_type": "code",
   "execution_count": 5,
   "metadata": {},
   "outputs": [],
   "source": [
    "data = pd.read_csv(r\"Iris.csv\")\n",
    "data.drop(\"Id\", axis=1, inplace=True)\n",
    "data.drop_duplicates(inplace=True)\n",
    "data[\"Species\"] = data[\"Species\"].map({\"Iris-versicolor\":0,\"Iris-virginica\":1,\"Iris-setosa\":-1})\n",
    "# data[\"Species\"].value_counts()\n",
    "data = data[data[\"Species\"] != 0]"
   ]
  },
  {
   "cell_type": "code",
   "execution_count": 10,
   "metadata": {},
   "outputs": [],
   "source": [
    "class Perceptron:\n",
    "    '''使用Python语言实现感知器算法'''\n",
    "    \n",
    "    def __init__(self, alpha, times):\n",
    "        self.alpha = alpha\n",
    "        self.times = times\n",
    "        \n",
    "    def step(self, z):\n",
    "        '''阶跃函数\n",
    "        \n",
    "        Parameters\n",
    "        ----\n",
    "        z:数组或者标量\n",
    "            阶跃函数的参数，可以将z映射成1或者-1\n",
    "        \n",
    "        Returns\n",
    "        ----\n",
    "        value: int\n",
    "            如果z>=0,返回1，否则返回-1\n",
    "        '''\n",
    "        \n",
    "        return np.where(z >=0, 1, -1)\n",
    "    \n",
    "    def fit(self, X, y):\n",
    "        \n",
    "        X = np.asarray(X)\n",
    "        y = np.asarray(y)\n",
    "        \n",
    "        self.w_ = np.zeros(1 + X.shape[1])\n",
    "        \n",
    "        self.loss_ = []\n",
    "        \n",
    "        for i in range(self.times):\n",
    "            # 逻辑回归中，使用所有样本计算梯度，然后更新权重\n",
    "            # 而感知器中，是使用单个样本，依次进行计算梯度，更新权重\n",
    "            loss = 0\n",
    "            for x, target in zip(X, y):\n",
    "                # 计算预测值\n",
    "                y_hat = self.step(np.dot(x, self.w_[1:]) + self.w_[0])\n",
    "                loss += y_hat != target\n",
    "                #更新权重:w(j) = w(j) + 学习率 * (真实值 - 预测值) * x(j)\n",
    "                # 例如，结果应该是1，但是返回了-1，这证明x重要的特征对应w的权重较低，所以要增加w中x重要的特征，所以用(target - y_hat) * x来更新权重\n",
    "                # 反之如果应该是-1，但是返回了1，就需要降低x相应重要特征的权重，这个时候加一个负数，也就达到了降低的效果\n",
    "                self.w_[0] += self.alpha * (target - y_hat)\n",
    "                self.w_[1:] += self.alpha * (target - y_hat) * x\n",
    "                \n",
    "            self.loss_.append(loss)\n",
    "            \n",
    "    def predict(self, X):\n",
    "        '''根据参数传递样本'''\n",
    "        \n",
    "        return self.step(np.dot(X, self.w_[1:]) + self.w_[0])"
   ]
  },
  {
   "cell_type": "code",
   "execution_count": 13,
   "metadata": {},
   "outputs": [
    {
     "data": {
      "text/plain": [
       "array([ 1,  1,  1,  1,  1,  1,  1,  1,  1, -1, -1, -1, -1, -1, -1, -1, -1])"
      ]
     },
     "metadata": {},
     "output_type": "display_data"
    },
    {
     "data": {
      "text/plain": [
       "[1, 2, 3, 2, 0, 0, 0, 0, 0, 0]"
      ]
     },
     "metadata": {},
     "output_type": "display_data"
    }
   ],
   "source": [
    "t1 = data[data[\"Species\"] == 1]\n",
    "t2 = data[data[\"Species\"] == -1]\n",
    "t1 = t1.sample(len(t1), random_state=0)\n",
    "t2 = t2.sample(len(t2), random_state=0)\n",
    "\n",
    "train_X = pd.concat([t1.iloc[:40, :-1], t2.iloc[:40, :-1]], axis=0)\n",
    "train_y = pd.concat([t1.iloc[:40, -1], t2.iloc[:40, -1]], axis=0)\n",
    "test_X = pd.concat([t1.iloc[40:, :-1], t2.iloc[40:, :-1]], axis=0)\n",
    "test_y = pd.concat([t1.iloc[40:, -1], t2.iloc[40:, -1]], axis=0)\n",
    "\n",
    "p = Perceptron(0.1, 10)\n",
    "p.fit(train_X, train_y)\n",
    "result = p.predict(test_X)\n",
    "\n",
    "display(result)\n",
    "display(p.loss_)"
   ]
  },
  {
   "cell_type": "code",
   "execution_count": 14,
   "metadata": {},
   "outputs": [],
   "source": [
    "import matplotlib as mpl\n",
    "import matplotlib.pyplot as plt\n",
    "# 设置中文显示\n",
    "mpl.rcParams[\"font.family\"] = \"Droid Sans Fallback\"\n",
    "mpl.rcParams[\"axes.unicode_minus\"] = False"
   ]
  },
  {
   "cell_type": "code",
   "execution_count": 18,
   "metadata": {},
   "outputs": [
    {
     "data": {
      "image/png": "[encoded data removed]",
      "text/plain": [
       "<Figure size 576x576 with 1 Axes>"
      ]
     },
     "metadata": {},
     "output_type": "display_data"
    }
   ],
   "source": [
    "plt.figure(figsize=[8,8])\n",
    "#绘制预测值\n",
    "plt.plot(result, \"go\", label=\"预测值\")\n",
    "plt.plot(test_y.values, 'rx', label=\"真实值\")\n",
    "plt.title(\"感知器\")\n",
    "plt.xlabel(\"样本序号\")\n",
    "plt.ylabel(\"分类\")\n",
    "plt.legend()\n",
    "plt.show()"
   ]
  },
  {
   "cell_type": "code",
   "execution_count": 21,
   "metadata": {},
   "outputs": [
    {
     "data": {
      "text/plain": [
       "[<matplotlib.lines.Line2D at 0x7fc80ce3a0b8>]"
      ]
     },
     "execution_count": 21,
     "metadata": {},
     "output_type": "execute_result"
    },
    {
     "data": {
      "image/png": "[encoded data removed]",
      "text/plain": [
       "<Figure size 432x288 with 1 Axes>"
      ]
     },
     "metadata": {},
     "output_type": "display_data"
    }
   ],
   "source": [
    "plt.plot(range(1, p.times +1), p.loss_, \"go-\")"
   ]
  },
  {
   "cell_type": "code",
   "execution_count": null,
   "metadata": {},
   "outputs": [],
   "source": []
  }
 ],
 "metadata": {
  "kernelspec": {
   "display_name": "Python 3",
   "language": "python",
   "name": "python3"
  },
  "language_info": {
   "codemirror_mode": {
    "name": "ipython",
    "version": 3
   },
   "file_extension": ".py",
   "mimetype": "text/x-python",
   "name": "python",
   "nbconvert_exporter": "python",
   "pygments_lexer": "ipython3",
   "version": "3.4.3"
  }
 },
 "nbformat": 4,
 "nbformat_minor": 2
}
